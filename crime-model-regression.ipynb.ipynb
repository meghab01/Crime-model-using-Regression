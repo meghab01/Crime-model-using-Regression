{
 "cells": [
  {
   "cell_type": "markdown",
   "metadata": {},
   "source": [
    "<h1> Lab 3: Reducing Crime</h1>\n",
    "\n",
    "<h3> Stage 1: Draft Report</h3>\n",
    "\n",
    "<h5> Team 2: Maria Auslander, Megha Bhardwaj, Govin Muthukrishnan, Teerapong Ninvoraskul</h5>"
   ]
  },
  {
   "cell_type": "markdown",
   "metadata": {},
   "source": [
    "## 1. An Introduction\n",
    "\n",
    "Our research team has been hired by the political campaign to provide statistical information that can assist in generating meaningful policy suggestions. \n",
    "\n",
    "Crime is one of the major issues of society and often cannot be controlled by law enforcement alone. We also lean on officials and lawmakers to institute applicable policies and reforms that help reduce crime rate. To create policies with a greater chance of success in bringing results, we first need to understand the determinants of crime.  \n",
    "\n",
    "For this purpose, we are given a dataset of crime statistics for a selection of counties in North Carolina. This dataset has been populated by studies, research and also publicly available government databases. We start with a simple regression model trying to understand the effect of population density on crime rate. Three of the key variables we use in our model:\n",
    "- The probability of arrest (ratio of arrests to offenses) is drawn from the FBI's Uniform Crime Reports\n",
    "- Population Density as higher population density leads to higher diversity in education and economic backgrounds leading to more crime.\n",
    "- The probability of conviction (ratio of convictions to arrests) is taken from the prison and probation files of the North Carolina Department of Correction\n",
    "\n",
    "Our team started research with *crime rate* as our outcome variable and *population density* as our key explanatory variable. Higher population density leads us to believe a larger diversity and possibly affecting crime rates. This diversity is expected in gender, race, education, economic status and many more.\n",
    "\n",
    "As we begin to build our models, we incrementally introduce and remove variables as we believe can produce meaningful results "
   ]
  },
  {
   "cell_type": "code",
   "execution_count": 1,
   "metadata": {},
   "outputs": [
    {
     "name": "stderr",
     "output_type": "stream",
     "text": [
      "Installing package into 'C:/Users/maria/Documents/R/win-library/3.6'\n",
      "(as 'lib' is unspecified)\n"
     ]
    },
    {
     "name": "stdout",
     "output_type": "stream",
     "text": [
      "package 'corrplot' successfully unpacked and MD5 sums checked\n",
      "\n",
      "The downloaded binary packages are in\n",
      "\tC:\\Users\\maria\\AppData\\Local\\Temp\\RtmpikrsfN\\downloaded_packages\n"
     ]
    }
   ],
   "source": [
    "# install.packages(\"lmtest\")\n",
    "# install.packages(\"sandwich\")\n",
    "# install.packages(\"stargazer\")\n",
    "# install.packages(\"car\")\n",
    "#install.packages(\"data.table\")\n",
    "install.packages(\"corrplot\")"
   ]
  },
  {
   "cell_type": "code",
   "execution_count": 2,
   "metadata": {},
   "outputs": [
    {
     "name": "stderr",
     "output_type": "stream",
     "text": [
      "Warning message:\n",
      "\"package 'lmtest' was built under R version 3.6.2\"Loading required package: zoo\n",
      "\n",
      "Attaching package: 'zoo'\n",
      "\n",
      "The following objects are masked from 'package:base':\n",
      "\n",
      "    as.Date, as.Date.numeric\n",
      "\n",
      "Warning message:\n",
      "\"package 'sandwich' was built under R version 3.6.2\"\n",
      "Please cite as: \n",
      "\n",
      " Hlavac, Marek (2018). stargazer: Well-Formatted Regression and Summary Statistics Tables.\n",
      " R package version 5.2.2. https://CRAN.R-project.org/package=stargazer \n",
      "\n",
      "Warning message:\n",
      "\"package 'car' was built under R version 3.6.3\"Loading required package: carData\n",
      "Loading required package: lattice\n",
      "Loading required package: ggplot2\n",
      "Registered S3 methods overwritten by 'ggplot2':\n",
      "  method         from \n",
      "  [.quosures     rlang\n",
      "  c.quosures     rlang\n",
      "  print.quosures rlang\n",
      "Warning message:\n",
      "\"package 'corrplot' was built under R version 3.6.3\"corrplot 0.84 loaded\n"
     ]
    }
   ],
   "source": [
    "library(lmtest)\n",
    "library(sandwich)\n",
    "library(stargazer)\n",
    "library(car)\n",
    "library(caret)\n",
    "library(corrplot)"
   ]
  },
  {
   "cell_type": "code",
   "execution_count": 3,
   "metadata": {},
   "outputs": [
    {
     "data": {
      "text/html": [
       "<table>\n",
       "<thead><tr><th scope=col>county</th><th scope=col>year</th><th scope=col>crmrte</th><th scope=col>prbarr</th><th scope=col>prbconv</th><th scope=col>prbpris</th><th scope=col>avgsen</th><th scope=col>polpc</th><th scope=col>density</th><th scope=col>taxpc</th><th scope=col>...</th><th scope=col>wtuc</th><th scope=col>wtrd</th><th scope=col>wfir</th><th scope=col>wser</th><th scope=col>wmfg</th><th scope=col>wfed</th><th scope=col>wsta</th><th scope=col>wloc</th><th scope=col>mix</th><th scope=col>pctymle</th></tr></thead>\n",
       "<tbody>\n",
       "\t<tr><td> 1         </td><td>87         </td><td>0.0356036  </td><td>0.298270   </td><td>0.527595997</td><td>0.436170   </td><td> 6.71      </td><td>0.00182786 </td><td>2.4226327  </td><td>30.99368   </td><td>...        </td><td>408.7245   </td><td>221.2701   </td><td>453.1722   </td><td>274.1775   </td><td>334.54     </td><td>477.58     </td><td>292.09     </td><td>311.91     </td><td>0.08016878 </td><td>0.07787097 </td></tr>\n",
       "\t<tr><td> 3         </td><td>87         </td><td>0.0152532  </td><td>0.132029   </td><td>1.481480002</td><td>0.450000   </td><td> 6.35      </td><td>0.00074588 </td><td>1.0463320  </td><td>26.89208   </td><td>...        </td><td>376.2542   </td><td>196.0101   </td><td>258.5650   </td><td>192.3077   </td><td>300.38     </td><td>409.83     </td><td>362.96     </td><td>301.47     </td><td>0.03022670 </td><td>0.08260694 </td></tr>\n",
       "\t<tr><td> 5         </td><td>87         </td><td>0.0129603  </td><td>0.444444   </td><td>0.267856985</td><td>0.600000   </td><td> 6.76      </td><td>0.00123431 </td><td>0.4127659  </td><td>34.81605   </td><td>...        </td><td>372.2084   </td><td>229.3209   </td><td>305.9441   </td><td>209.6972   </td><td>237.65     </td><td>358.98     </td><td>331.53     </td><td>281.37     </td><td>0.46511629 </td><td>0.07211538 </td></tr>\n",
       "\t<tr><td> 7         </td><td>87         </td><td>0.0267532  </td><td>0.364760   </td><td>0.525424004</td><td>0.435484   </td><td> 7.14      </td><td>0.00152994 </td><td>0.4915572  </td><td>42.94759   </td><td>...        </td><td>397.6901   </td><td>191.1720   </td><td>281.0651   </td><td>256.7214   </td><td>281.80     </td><td>412.15     </td><td>328.27     </td><td>299.03     </td><td>0.27362204 </td><td>0.07353726 </td></tr>\n",
       "\t<tr><td> 9         </td><td>87         </td><td>0.0106232  </td><td>0.518219   </td><td>0.476563007</td><td>0.442623   </td><td> 8.22      </td><td>0.00086018 </td><td>0.5469484  </td><td>28.05474   </td><td>...        </td><td>377.3126   </td><td>206.8215   </td><td>289.3125   </td><td>215.1933   </td><td>290.89     </td><td>377.35     </td><td>367.23     </td><td>342.82     </td><td>0.06008584 </td><td>0.07069755 </td></tr>\n",
       "\t<tr><td>11         </td><td>87         </td><td>0.0146067  </td><td>0.524664   </td><td>0.068376102</td><td>0.500000   </td><td>13.00      </td><td>0.00288203 </td><td>0.6113361  </td><td>35.22974   </td><td>...        </td><td>401.3378   </td><td>187.8255   </td><td>258.5650   </td><td>237.1507   </td><td>258.60     </td><td>391.48     </td><td>325.71     </td><td>275.22     </td><td>0.31952664 </td><td>0.09891920 </td></tr>\n",
       "</tbody>\n",
       "</table>\n"
      ],
      "text/latex": [
       "\\begin{tabular}{r|lllllllllllllllllllllllll}\n",
       " county & year & crmrte & prbarr & prbconv & prbpris & avgsen & polpc & density & taxpc & ... & wtuc & wtrd & wfir & wser & wmfg & wfed & wsta & wloc & mix & pctymle\\\\\n",
       "\\hline\n",
       "\t  1          & 87          & 0.0356036   & 0.298270    & 0.527595997 & 0.436170    &  6.71       & 0.00182786  & 2.4226327   & 30.99368    & ...         & 408.7245    & 221.2701    & 453.1722    & 274.1775    & 334.54      & 477.58      & 292.09      & 311.91      & 0.08016878  & 0.07787097 \\\\\n",
       "\t  3          & 87          & 0.0152532   & 0.132029    & 1.481480002 & 0.450000    &  6.35       & 0.00074588  & 1.0463320   & 26.89208    & ...         & 376.2542    & 196.0101    & 258.5650    & 192.3077    & 300.38      & 409.83      & 362.96      & 301.47      & 0.03022670  & 0.08260694 \\\\\n",
       "\t  5          & 87          & 0.0129603   & 0.444444    & 0.267856985 & 0.600000    &  6.76       & 0.00123431  & 0.4127659   & 34.81605    & ...         & 372.2084    & 229.3209    & 305.9441    & 209.6972    & 237.65      & 358.98      & 331.53      & 281.37      & 0.46511629  & 0.07211538 \\\\\n",
       "\t  7          & 87          & 0.0267532   & 0.364760    & 0.525424004 & 0.435484    &  7.14       & 0.00152994  & 0.4915572   & 42.94759    & ...         & 397.6901    & 191.1720    & 281.0651    & 256.7214    & 281.80      & 412.15      & 328.27      & 299.03      & 0.27362204  & 0.07353726 \\\\\n",
       "\t  9          & 87          & 0.0106232   & 0.518219    & 0.476563007 & 0.442623    &  8.22       & 0.00086018  & 0.5469484   & 28.05474    & ...         & 377.3126    & 206.8215    & 289.3125    & 215.1933    & 290.89      & 377.35      & 367.23      & 342.82      & 0.06008584  & 0.07069755 \\\\\n",
       "\t 11          & 87          & 0.0146067   & 0.524664    & 0.068376102 & 0.500000    & 13.00       & 0.00288203  & 0.6113361   & 35.22974    & ...         & 401.3378    & 187.8255    & 258.5650    & 237.1507    & 258.60      & 391.48      & 325.71      & 275.22      & 0.31952664  & 0.09891920 \\\\\n",
       "\\end{tabular}\n"
      ],
      "text/markdown": [
       "\n",
       "| county | year | crmrte | prbarr | prbconv | prbpris | avgsen | polpc | density | taxpc | ... | wtuc | wtrd | wfir | wser | wmfg | wfed | wsta | wloc | mix | pctymle |\n",
       "|---|---|---|---|---|---|---|---|---|---|---|---|---|---|---|---|---|---|---|---|---|\n",
       "|  1          | 87          | 0.0356036   | 0.298270    | 0.527595997 | 0.436170    |  6.71       | 0.00182786  | 2.4226327   | 30.99368    | ...         | 408.7245    | 221.2701    | 453.1722    | 274.1775    | 334.54      | 477.58      | 292.09      | 311.91      | 0.08016878  | 0.07787097  |\n",
       "|  3          | 87          | 0.0152532   | 0.132029    | 1.481480002 | 0.450000    |  6.35       | 0.00074588  | 1.0463320   | 26.89208    | ...         | 376.2542    | 196.0101    | 258.5650    | 192.3077    | 300.38      | 409.83      | 362.96      | 301.47      | 0.03022670  | 0.08260694  |\n",
       "|  5          | 87          | 0.0129603   | 0.444444    | 0.267856985 | 0.600000    |  6.76       | 0.00123431  | 0.4127659   | 34.81605    | ...         | 372.2084    | 229.3209    | 305.9441    | 209.6972    | 237.65      | 358.98      | 331.53      | 281.37      | 0.46511629  | 0.07211538  |\n",
       "|  7          | 87          | 0.0267532   | 0.364760    | 0.525424004 | 0.435484    |  7.14       | 0.00152994  | 0.4915572   | 42.94759    | ...         | 397.6901    | 191.1720    | 281.0651    | 256.7214    | 281.80      | 412.15      | 328.27      | 299.03      | 0.27362204  | 0.07353726  |\n",
       "|  9          | 87          | 0.0106232   | 0.518219    | 0.476563007 | 0.442623    |  8.22       | 0.00086018  | 0.5469484   | 28.05474    | ...         | 377.3126    | 206.8215    | 289.3125    | 215.1933    | 290.89      | 377.35      | 367.23      | 342.82      | 0.06008584  | 0.07069755  |\n",
       "| 11          | 87          | 0.0146067   | 0.524664    | 0.068376102 | 0.500000    | 13.00       | 0.00288203  | 0.6113361   | 35.22974    | ...         | 401.3378    | 187.8255    | 258.5650    | 237.1507    | 258.60      | 391.48      | 325.71      | 275.22      | 0.31952664  | 0.09891920  |\n",
       "\n"
      ],
      "text/plain": [
       "  county year crmrte    prbarr   prbconv     prbpris  avgsen polpc     \n",
       "1  1     87   0.0356036 0.298270 0.527595997 0.436170  6.71  0.00182786\n",
       "2  3     87   0.0152532 0.132029 1.481480002 0.450000  6.35  0.00074588\n",
       "3  5     87   0.0129603 0.444444 0.267856985 0.600000  6.76  0.00123431\n",
       "4  7     87   0.0267532 0.364760 0.525424004 0.435484  7.14  0.00152994\n",
       "5  9     87   0.0106232 0.518219 0.476563007 0.442623  8.22  0.00086018\n",
       "6 11     87   0.0146067 0.524664 0.068376102 0.500000 13.00  0.00288203\n",
       "  density   taxpc    ... wtuc     wtrd     wfir     wser     wmfg   wfed  \n",
       "1 2.4226327 30.99368 ... 408.7245 221.2701 453.1722 274.1775 334.54 477.58\n",
       "2 1.0463320 26.89208 ... 376.2542 196.0101 258.5650 192.3077 300.38 409.83\n",
       "3 0.4127659 34.81605 ... 372.2084 229.3209 305.9441 209.6972 237.65 358.98\n",
       "4 0.4915572 42.94759 ... 397.6901 191.1720 281.0651 256.7214 281.80 412.15\n",
       "5 0.5469484 28.05474 ... 377.3126 206.8215 289.3125 215.1933 290.89 377.35\n",
       "6 0.6113361 35.22974 ... 401.3378 187.8255 258.5650 237.1507 258.60 391.48\n",
       "  wsta   wloc   mix        pctymle   \n",
       "1 292.09 311.91 0.08016878 0.07787097\n",
       "2 362.96 301.47 0.03022670 0.08260694\n",
       "3 331.53 281.37 0.46511629 0.07211538\n",
       "4 328.27 299.03 0.27362204 0.07353726\n",
       "5 367.23 342.82 0.06008584 0.07069755\n",
       "6 325.71 275.22 0.31952664 0.09891920"
      ]
     },
     "metadata": {},
     "output_type": "display_data"
    }
   ],
   "source": [
    "crime = read.csv(\"crime_v2.csv\")\n",
    "head(crime)"
   ]
  },
  {
   "cell_type": "code",
   "execution_count": 4,
   "metadata": {},
   "outputs": [
    {
     "data": {
      "text/plain": [
       "     county           year        crmrte             prbarr       \n",
       " Min.   :  1.0   Min.   :87   Min.   :0.005533   Min.   :0.09277  \n",
       " 1st Qu.: 52.0   1st Qu.:87   1st Qu.:0.020927   1st Qu.:0.20568  \n",
       " Median :105.0   Median :87   Median :0.029986   Median :0.27095  \n",
       " Mean   :101.6   Mean   :87   Mean   :0.033400   Mean   :0.29492  \n",
       " 3rd Qu.:152.0   3rd Qu.:87   3rd Qu.:0.039642   3rd Qu.:0.34438  \n",
       " Max.   :197.0   Max.   :87   Max.   :0.098966   Max.   :1.09091  \n",
       " NA's   :6       NA's   :6    NA's   :6          NA's   :6        \n",
       "        prbconv      prbpris           avgsen           polpc         \n",
       "            : 5   Min.   :0.1500   Min.   : 5.380   Min.   :0.000746  \n",
       " 0.588859022: 2   1st Qu.:0.3648   1st Qu.: 7.340   1st Qu.:0.001231  \n",
       " `          : 1   Median :0.4234   Median : 9.100   Median :0.001485  \n",
       " 0.068376102: 1   Mean   :0.4108   Mean   : 9.647   Mean   :0.001702  \n",
       " 0.140350997: 1   3rd Qu.:0.4568   3rd Qu.:11.420   3rd Qu.:0.001877  \n",
       " 0.154451996: 1   Max.   :0.6000   Max.   :20.700   Max.   :0.009054  \n",
       " (Other)    :86   NA's   :6        NA's   :6        NA's   :6         \n",
       "    density            taxpc             west           central      \n",
       " Min.   :0.00002   Min.   : 25.69   Min.   :0.0000   Min.   :0.0000  \n",
       " 1st Qu.:0.54741   1st Qu.: 30.66   1st Qu.:0.0000   1st Qu.:0.0000  \n",
       " Median :0.96226   Median : 34.87   Median :0.0000   Median :0.0000  \n",
       " Mean   :1.42884   Mean   : 38.06   Mean   :0.2527   Mean   :0.3736  \n",
       " 3rd Qu.:1.56824   3rd Qu.: 40.95   3rd Qu.:0.5000   3rd Qu.:1.0000  \n",
       " Max.   :8.82765   Max.   :119.76   Max.   :1.0000   Max.   :1.0000  \n",
       " NA's   :6         NA's   :6        NA's   :6        NA's   :6       \n",
       "     urban            pctmin80           wcon            wtuc      \n",
       " Min.   :0.00000   Min.   : 1.284   Min.   :193.6   Min.   :187.6  \n",
       " 1st Qu.:0.00000   1st Qu.: 9.845   1st Qu.:250.8   1st Qu.:374.6  \n",
       " Median :0.00000   Median :24.312   Median :281.4   Median :406.5  \n",
       " Mean   :0.08791   Mean   :25.495   Mean   :285.4   Mean   :411.7  \n",
       " 3rd Qu.:0.00000   3rd Qu.:38.142   3rd Qu.:314.8   3rd Qu.:443.4  \n",
       " Max.   :1.00000   Max.   :64.348   Max.   :436.8   Max.   :613.2  \n",
       " NA's   :6         NA's   :6        NA's   :6       NA's   :6      \n",
       "      wtrd            wfir            wser             wmfg      \n",
       " Min.   :154.2   Min.   :170.9   Min.   : 133.0   Min.   :157.4  \n",
       " 1st Qu.:190.9   1st Qu.:286.5   1st Qu.: 229.7   1st Qu.:288.9  \n",
       " Median :203.0   Median :317.3   Median : 253.2   Median :320.2  \n",
       " Mean   :211.6   Mean   :322.1   Mean   : 275.6   Mean   :335.6  \n",
       " 3rd Qu.:225.1   3rd Qu.:345.4   3rd Qu.: 280.5   3rd Qu.:359.6  \n",
       " Max.   :354.7   Max.   :509.5   Max.   :2177.1   Max.   :646.9  \n",
       " NA's   :6       NA's   :6       NA's   :6        NA's   :6      \n",
       "      wfed            wsta            wloc            mix         \n",
       " Min.   :326.1   Min.   :258.3   Min.   :239.2   Min.   :0.01961  \n",
       " 1st Qu.:400.2   1st Qu.:329.3   1st Qu.:297.3   1st Qu.:0.08074  \n",
       " Median :449.8   Median :357.7   Median :308.1   Median :0.10186  \n",
       " Mean   :442.9   Mean   :357.5   Mean   :312.7   Mean   :0.12884  \n",
       " 3rd Qu.:478.0   3rd Qu.:382.6   3rd Qu.:329.2   3rd Qu.:0.15175  \n",
       " Max.   :598.0   Max.   :499.6   Max.   :388.1   Max.   :0.46512  \n",
       " NA's   :6       NA's   :6       NA's   :6       NA's   :6        \n",
       "    pctymle       \n",
       " Min.   :0.06216  \n",
       " 1st Qu.:0.07443  \n",
       " Median :0.07771  \n",
       " Mean   :0.08396  \n",
       " 3rd Qu.:0.08350  \n",
       " Max.   :0.24871  \n",
       " NA's   :6        "
      ]
     },
     "metadata": {},
     "output_type": "display_data"
    }
   ],
   "source": [
    "summary(crime)"
   ]
  },
  {
   "cell_type": "markdown",
   "metadata": {},
   "source": [
    "Missing Values - The EDA shows there are 6 missing values in the dataset. We will remove those values. \n",
    "\n",
    "Top Coding - The wages variables cap at a maximum value of around $650 with the exception of services wages that have some outliers. The wages variable  seem to be top coded either to prevent extreme outliers that are common with wages. Many inequality measures are sensitive to the values at the bottom and/or top of the income distribution, and some are not defined for non-positive values of income (e.g., any measure that calculates a logarithm). Therefore, comparative researchers sometimes trim the distribution (by deleting the top and bottom 1% for example) or impose bottom codes and top codes to provide a common calculation of lower and upper limits, method often referred to as windsorising. "
   ]
  },
  {
   "cell_type": "code",
   "execution_count": 5,
   "metadata": {},
   "outputs": [
    {
     "name": "stderr",
     "output_type": "stream",
     "text": [
      "Warning message in eval(expr, envir, enclos):\n",
      "\"NAs introduced by coercion\""
     ]
    }
   ],
   "source": [
    "# Removing missing values from the two variables\n",
    "#summary(crime)\n",
    "\n",
    "crime$prbconv<-as.numeric(as.character(crime$prbconv))\n",
    "crime=crime[complete.cases(crime),]"
   ]
  },
  {
   "cell_type": "markdown",
   "metadata": {},
   "source": [
    "Next we will analyze the correlation matrix with all the variables in our dataset. This will help us understand the \n",
    "relationship among them and help with selection of dependent variables for model specification. For the maximalist model, we will pick variables that have correlation of over 0.1 with the outcome variable.\n",
    "\n",
    "Density is highly correlated with Urban(corr > 0.8). we will use only one of these two since they seem to be conveying the same information.\n",
    "wtrd and wfir are closely related to wfed (corr > 0.6)so we will use only wfed in our model since adding wtrd and wfir will not add value to our model"
   ]
  },
  {
   "cell_type": "code",
   "execution_count": 6,
   "metadata": {},
   "outputs": [
    {
     "name": "stderr",
     "output_type": "stream",
     "text": [
      "Warning message in ind1:ind2:\n",
      "\"numerical expression has 2 elements: only the first used\"Warning message in ind1:ind2:\n",
      "\"numerical expression has 3 elements: only the first used\"Warning message in text.default(pos.xlabel[, 1], pos.xlabel[, 2], newcolnames, srt = tl.srt, :\n",
      "\"\"text.cex\" is not a graphical parameter\"Warning message in text.default(pos.ylabel[, 1], pos.ylabel[, 2], newrownames, col = tl.col, :\n",
      "\"\"text.cex\" is not a graphical parameter\"Warning message in title(title, ...):\n",
      "\"\"text.cex\" is not a graphical parameter\""
     ]
    },
    {
     "data": {
      "image/png": "[encoded data removed]",
      "text/plain": [
       "Plot with title \"\""
      ]
     },
     "metadata": {},
     "output_type": "display_data"
    }
   ],
   "source": [
    "#install.packages('corrplot')\n",
    "crime$prbconv<-as.numeric(crime$prbconv)\n",
    "library(corrplot)\n",
    "cor_matrix = cor(crime[c('crmrte', 'prbarr','prbconv', 'prbpris','avgsen','polpc','density','taxpc','west','central',\n",
    "                          'urban','pctmin80','wcon','wtuc','wtrd','wfir','wser','wmfg','wfed','wsta','wloc','mix','pctymle')], \n",
    "                          use = \"complete.obs\")\n",
    "# Use heatmap to illustrate\n",
    "col <- colorRampPalette(c(\"#BB4444\", \"#EE9988\", \"#FFFFFF\", \"#77AADD\", \"#4477AA\"))\n",
    "corrplot(cor_matrix, method=\"color\", col=col(500), type='lower',\n",
    "order=\"hclust\",\n",
    "addCoef.col = \"black\", # Add coefficient of correlation\n",
    "number.cex=0.5,\n",
    "text.cex=0.5,\n",
    "tl.col=\"black\", tl.srt=90, #Text label color and rotation\n",
    "# hide correlation coefficient on the principal diagonal\n",
    "diag=FALSE\n",
    ")"
   ]
  },
  {
   "cell_type": "markdown",
   "metadata": {},
   "source": [
    "## 2. A Model Building Process"
   ]
  },
  {
   "cell_type": "markdown",
   "metadata": {},
   "source": [
    "### Model 1 - Base Model\n",
    "Our first model will use population density as the key independent variable and a determinant of crime. Let's run an EDA - We start by handling the missing values. We then do a univariate analysis on the outcome variable and independent variable.\n",
    "\n",
    "Crime rate - The histogram and box plot show that the data is skewed towards the lower end of the distribution. This indicates that most counties have low crime rates. The outliers are on the higher end and seem reasonable so we will keep them. \n",
    "\n",
    "Density - The graphs indicate a spike in data on the lower end of distribution. This means most counties have very low population density. There are outliers on the higher end but they seem reasonable\n",
    "\n",
    "Log transformation on the outcome variable - Given the skewness of  outcome variable, we will use log transformation on it to reduce skewness and improve data distribution\n",
    "\n",
    ". \n"
   ]
  },
  {
   "cell_type": "code",
   "execution_count": 7,
   "metadata": {},
   "outputs": [
    {
     "data": {
      "image/png": "[encoded data removed]",
      "text/plain": [
       "Plot with title \"Histogram of crime$crmrte\""
      ]
     },
     "metadata": {},
     "output_type": "display_data"
    },
    {
     "data": {
      "text/plain": [
       "    Min.  1st Qu.   Median     Mean  3rd Qu.     Max. \n",
       "0.005533 0.020927 0.029986 0.033400 0.039642 0.098966 "
      ]
     },
     "metadata": {},
     "output_type": "display_data"
    },
    {
     "data": {
      "image/png": "[encoded data removed]",
      "text/plain": [
       "plot without title"
      ]
     },
     "metadata": {},
     "output_type": "display_data"
    }
   ],
   "source": [
    "hist(crime$crmrte)\n",
    "boxplot(crime$crmrte)\n",
    "summary(crime$crmrte)"
   ]
  },
  {
   "cell_type": "code",
   "execution_count": 8,
   "metadata": {},
   "outputs": [
    {
     "data": {
      "image/png": "[encoded data removed]",
      "text/plain": [
       "Plot with title \"Histogram of log(crime$crmrte)\""
      ]
     },
     "metadata": {},
     "output_type": "display_data"
    },
    {
     "data": {
      "text/plain": [
       "   Min. 1st Qu.  Median    Mean 3rd Qu.    Max. \n",
       " -5.197  -3.867  -3.507  -3.544  -3.228  -2.313 "
      ]
     },
     "metadata": {},
     "output_type": "display_data"
    },
    {
     "data": {
      "image/png": "[encoded data removed]",
      "text/plain": [
       "plot without title"
      ]
     },
     "metadata": {},
     "output_type": "display_data"
    }
   ],
   "source": [
    "hist(log(crime$crmrte))\n",
    "boxplot(log(crime$crmrte))\n",
    "summary(log(crime$crmrte))"
   ]
  },
  {
   "cell_type": "code",
   "execution_count": 9,
   "metadata": {},
   "outputs": [
    {
     "data": {
      "image/png": "[encoded data removed]",
      "text/plain": [
       "Plot with title \"Histogram of crime$density\""
      ]
     },
     "metadata": {},
     "output_type": "display_data"
    },
    {
     "data": {
      "text/plain": [
       "   Min. 1st Qu.  Median    Mean 3rd Qu.    Max. \n",
       "0.00002 0.54741 0.96226 1.42884 1.56824 8.82765 "
      ]
     },
     "metadata": {},
     "output_type": "display_data"
    },
    {
     "data": {
      "image/png": "[encoded data removed]",
      "text/plain": [
       "plot without title"
      ]
     },
     "metadata": {},
     "output_type": "display_data"
    }
   ],
   "source": [
    "hist(crime$density,breaks=20)\n",
    "boxplot(crime$density)\n",
    "summary(crime$density)"
   ]
  },
  {
   "cell_type": "code",
   "execution_count": 9,
   "metadata": {},
   "outputs": [
    {
     "data": {
      "text/plain": [
       "\n",
       "Call:\n",
       "lm(formula = log(crime$crmrte) ~ crime$density)\n",
       "\n",
       "Coefficients:\n",
       "  (Intercept)  crime$density  \n",
       "      -3.8705         0.2285  \n"
      ]
     },
     "metadata": {},
     "output_type": "display_data"
    },
    {
     "data": {
      "image/png": "[encoded data removed]",
      "text/plain": [
       "Plot with title \"Scatterplot of Crime Rate versus Population density\""
      ]
     },
     "metadata": {},
     "output_type": "display_data"
    }
   ],
   "source": [
    "model1 <- lm(log(crime$crmrte)~crime$density)\n",
    "model1\n",
    "plot(crime$density, log(crime$crmrte), col=\"blue\", main=\"Scatterplot of Crime Rate versus Population density\",\n",
    "     xlab=\"Population density\",ylab=\"Crime rate\")\n",
    "abline(model1,col=\"blue\",lwd=2)"
   ]
  },
  {
   "cell_type": "code",
   "execution_count": 72,
   "metadata": {},
   "outputs": [
    {
     "data": {
      "text/plain": [
       "\n",
       "Call:\n",
       "lm(formula = crime$crmrte ~ crime$density)\n",
       "\n",
       "Residuals:\n",
       "      Min        1Q    Median        3Q       Max \n",
       "-0.018423 -0.009392 -0.002907  0.004790  0.053922 \n",
       "\n",
       "Coefficients:\n",
       "               Estimate Std. Error t value Pr(>|t|)    \n",
       "(Intercept)   0.0204632  0.0018711   10.94  < 2e-16 ***\n",
       "crime$density 0.0090542  0.0009013   10.05 2.57e-16 ***\n",
       "---\n",
       "Signif. codes:  0 '***' 0.001 '**' 0.01 '*' 0.05 '.' 0.1 ' ' 1\n",
       "\n",
       "Residual standard error: 0.01295 on 89 degrees of freedom\n",
       "Multiple R-squared:  0.5314,\tAdjusted R-squared:  0.5261 \n",
       "F-statistic: 100.9 on 1 and 89 DF,  p-value: 2.573e-16\n"
      ]
     },
     "metadata": {},
     "output_type": "display_data"
    }
   ],
   "source": [
    "summary(model1)"
   ]
  },
  {
   "cell_type": "code",
   "execution_count": 73,
   "metadata": {
    "scrolled": false
   },
   "outputs": [
    {
     "data": {
      "image/png": "[encoded data removed]",
      "text/plain": [
       "Plot with title \"\""
      ]
     },
     "metadata": {},
     "output_type": "display_data"
    }
   ],
   "source": [
    "plot(model1,5)"
   ]
  },
  {
   "cell_type": "markdown",
   "metadata": {},
   "source": [
    "The log transformation is negatively affecting the model fit and the effect of outliers. It is leading to a lower\n",
    "R squared value of 0.46 compared to a model with no log transformation (R-squared > 0.5). So we will use the model without the log transformation"
   ]
  },
  {
   "cell_type": "code",
   "execution_count": 12,
   "metadata": {},
   "outputs": [
    {
     "data": {
      "text/plain": [
       "\n",
       "Call:\n",
       "lm(formula = crime$crmrte ~ crime$density)\n",
       "\n",
       "Coefficients:\n",
       "  (Intercept)  crime$density  \n",
       "     0.020463       0.009054  \n"
      ]
     },
     "metadata": {},
     "output_type": "display_data"
    },
    {
     "data": {
      "image/png": "[encoded data removed]",
      "text/plain": [
       "Plot with title \"Scatterplot of Crime Rate versus Population density\""
      ]
     },
     "metadata": {},
     "output_type": "display_data"
    }
   ],
   "source": [
    "model1 <- lm(crime$crmrte~crime$density)\n",
    "model1\n",
    "plot(crime$density, crime$crmrte, col=\"blue\", main=\"Scatterplot of Crime Rate versus Population density\",\n",
    "     xlab=\"Population density\",ylab=\"Crime rate\")\n",
    "abline(model1,col=\"blue\",lwd=2)"
   ]
  },
  {
   "cell_type": "code",
   "execution_count": 13,
   "metadata": {},
   "outputs": [
    {
     "data": {
      "text/plain": [
       "\n",
       "Call:\n",
       "lm(formula = crime$crmrte ~ crime$density)\n",
       "\n",
       "Residuals:\n",
       "      Min        1Q    Median        3Q       Max \n",
       "-0.018423 -0.009392 -0.002907  0.004790  0.053922 \n",
       "\n",
       "Coefficients:\n",
       "               Estimate Std. Error t value Pr(>|t|)    \n",
       "(Intercept)   0.0204632  0.0018711   10.94  < 2e-16 ***\n",
       "crime$density 0.0090542  0.0009013   10.05 2.57e-16 ***\n",
       "---\n",
       "Signif. codes:  0 '***' 0.001 '**' 0.01 '*' 0.05 '.' 0.1 ' ' 1\n",
       "\n",
       "Residual standard error: 0.01295 on 89 degrees of freedom\n",
       "Multiple R-squared:  0.5314,\tAdjusted R-squared:  0.5261 \n",
       "F-statistic: 100.9 on 1 and 89 DF,  p-value: 2.573e-16\n"
      ]
     },
     "metadata": {},
     "output_type": "display_data"
    }
   ],
   "source": [
    "summary(model1)"
   ]
  },
  {
   "cell_type": "code",
   "execution_count": 14,
   "metadata": {},
   "outputs": [
    {
     "data": {
      "image/png": "[encoded data removed]",
      "text/plain": [
       "Plot with title \"\""
      ]
     },
     "metadata": {},
     "output_type": "display_data"
    }
   ],
   "source": [
    "plot(model1,5)"
   ]
  },
  {
   "cell_type": "markdown",
   "metadata": {},
   "source": [
    "### Model 2 - Maximalist model\n",
    "In our next model, we will include all variables that have strong correlation with crime rate. From the correlation heatmap above we choose these dependent variables that have correlation over 0.1 with the outcome variable. These are variables we will use in our model:\n",
    "* density\n",
    "* prbarr\n",
    "* prbconv\n",
    "* wcon\n",
    "* wloc\n",
    "* wfed\n",
    "* wtuc\n",
    "* wmfg\n",
    "* mix\n",
    "* wsta\n",
    "* pctymle\n",
    "* west\n",
    "* central\n",
    "* polpc\n",
    "\n",
    "EDA - We will start with univariate analysis on metric variables and then run the model."
   ]
  },
  {
   "cell_type": "code",
   "execution_count": 15,
   "metadata": {},
   "outputs": [
    {
     "data": {
      "image/png": "[encoded data removed]",
      "text/plain": [
       "Plot with title \"Histogram of crime$prbarr\""
      ]
     },
     "metadata": {},
     "output_type": "display_data"
    },
    {
     "data": {
      "text/plain": [
       "   Min. 1st Qu.  Median    Mean 3rd Qu.    Max. \n",
       "0.09277 0.20568 0.27095 0.29492 0.34438 1.09091 "
      ]
     },
     "metadata": {},
     "output_type": "display_data"
    },
    {
     "data": {
      "image/png": "[encoded data removed]",
      "text/plain": [
       "plot without title"
      ]
     },
     "metadata": {},
     "output_type": "display_data"
    }
   ],
   "source": [
    "hist(crime$prbarr)\n",
    "boxplot(crime$prbarr)\n",
    "summary(crime$prbarr)"
   ]
  },
  {
   "cell_type": "code",
   "execution_count": 16,
   "metadata": {},
   "outputs": [
    {
     "data": {
      "image/png": "[encoded data removed]",
      "text/plain": [
       "Plot with title \"Histogram of crime$prbconv\""
      ]
     },
     "metadata": {},
     "output_type": "display_data"
    },
    {
     "data": {
      "text/plain": [
       "   Min. 1st Qu.  Median    Mean 3rd Qu.    Max. \n",
       "0.06838 0.34541 0.45283 0.55128 0.58886 2.12121 "
      ]
     },
     "metadata": {},
     "output_type": "display_data"
    },
    {
     "data": {
      "image/png": "[encoded data removed]",
      "text/plain": [
       "plot without title"
      ]
     },
     "metadata": {},
     "output_type": "display_data"
    }
   ],
   "source": [
    "hist(crime$prbconv)\n",
    "boxplot(crime$prbconv)\n",
    "summary(crime$prbconv)"
   ]
  },
  {
   "cell_type": "code",
   "execution_count": 17,
   "metadata": {},
   "outputs": [
    {
     "data": {
      "image/png": "[encoded data removed]",
      "text/plain": [
       "Plot with title \"Histogram of crime$wcon\""
      ]
     },
     "metadata": {},
     "output_type": "display_data"
    },
    {
     "data": {
      "text/plain": [
       "   Min. 1st Qu.  Median    Mean 3rd Qu.    Max. \n",
       "  193.6   250.8   281.4   285.4   314.8   436.8 "
      ]
     },
     "metadata": {},
     "output_type": "display_data"
    },
    {
     "data": {
      "image/png": "[encoded data removed]",
      "text/plain": [
       "plot without title"
      ]
     },
     "metadata": {},
     "output_type": "display_data"
    }
   ],
   "source": [
    "hist(crime$wcon)\n",
    "boxplot(crime$wcon)\n",
    "summary(crime$wcon)"
   ]
  },
  {
   "cell_type": "code",
   "execution_count": 18,
   "metadata": {},
   "outputs": [
    {
     "data": {
      "image/png": "[encoded data removed]",
      "text/plain": [
       "Plot with title \"Histogram of crime$wloc\""
      ]
     },
     "metadata": {},
     "output_type": "display_data"
    },
    {
     "data": {
      "text/plain": [
       "   Min. 1st Qu.  Median    Mean 3rd Qu.    Max. \n",
       "  239.2   297.3   308.1   312.7   329.2   388.1 "
      ]
     },
     "metadata": {},
     "output_type": "display_data"
    },
    {
     "data": {
      "image/png": "[encoded data removed]",
      "text/plain": [
       "plot without title"
      ]
     },
     "metadata": {},
     "output_type": "display_data"
    }
   ],
   "source": [
    "hist(crime$wloc)\n",
    "boxplot(crime$wloc)\n",
    "summary(crime$wloc)"
   ]
  },
  {
   "cell_type": "code",
   "execution_count": 19,
   "metadata": {},
   "outputs": [
    {
     "data": {
      "image/png": "[encoded data removed]",
      "text/plain": [
       "Plot with title \"Histogram of crime$wfed\""
      ]
     },
     "metadata": {},
     "output_type": "display_data"
    },
    {
     "data": {
      "text/plain": [
       "   Min. 1st Qu.  Median    Mean 3rd Qu.    Max. \n",
       "  326.1   400.2   449.8   442.9   478.0   598.0 "
      ]
     },
     "metadata": {},
     "output_type": "display_data"
    },
    {
     "data": {
      "image/png": "[encoded data removed]",
      "text/plain": [
       "plot without title"
      ]
     },
     "metadata": {},
     "output_type": "display_data"
    }
   ],
   "source": [
    "hist(crime$wfed)\n",
    "boxplot(crime$wfed)\n",
    "summary(crime$wfed)"
   ]
  },
  {
   "cell_type": "code",
   "execution_count": 20,
   "metadata": {},
   "outputs": [
    {
     "data": {
      "image/png": "[encoded data removed]",
      "text/plain": [
       "Plot with title \"Histogram of crime$wtuc\""
      ]
     },
     "metadata": {},
     "output_type": "display_data"
    },
    {
     "data": {
      "text/plain": [
       "   Min. 1st Qu.  Median    Mean 3rd Qu.    Max. \n",
       "  187.6   374.6   406.5   411.7   443.4   613.2 "
      ]
     },
     "metadata": {},
     "output_type": "display_data"
    },
    {
     "data": {
      "image/png": "[encoded data removed]",
      "text/plain": [
       "plot without title"
      ]
     },
     "metadata": {},
     "output_type": "display_data"
    }
   ],
   "source": [
    "hist(crime$wtuc)\n",
    "boxplot(crime$wtuc)\n",
    "summary(crime$wtuc)"
   ]
  },
  {
   "cell_type": "code",
   "execution_count": 21,
   "metadata": {},
   "outputs": [
    {
     "data": {
      "image/png": "[encoded data removed]",
      "text/plain": [
       "Plot with title \"Histogram of crime$wmfg\""
      ]
     },
     "metadata": {},
     "output_type": "display_data"
    },
    {
     "data": {
      "text/plain": [
       "   Min. 1st Qu.  Median    Mean 3rd Qu.    Max. \n",
       "  157.4   288.9   320.2   335.6   359.6   646.9 "
      ]
     },
     "metadata": {},
     "output_type": "display_data"
    },
    {
     "data": {
      "image/png": "[encoded data removed]",
      "text/plain": [
       "plot without title"
      ]
     },
     "metadata": {},
     "output_type": "display_data"
    }
   ],
   "source": [
    "hist(crime$wmfg)\n",
    "boxplot(crime$wmfg)\n",
    "summary(crime$wmfg)"
   ]
  },
  {
   "cell_type": "code",
   "execution_count": 22,
   "metadata": {},
   "outputs": [
    {
     "data": {
      "image/png": "[encoded data removed]",
      "text/plain": [
       "Plot with title \"Histogram of crime$wsta\""
      ]
     },
     "metadata": {},
     "output_type": "display_data"
    },
    {
     "data": {
      "text/plain": [
       "   Min. 1st Qu.  Median    Mean 3rd Qu.    Max. \n",
       "  258.3   329.3   357.7   357.5   382.6   499.6 "
      ]
     },
     "metadata": {},
     "output_type": "display_data"
    },
    {
     "data": {
      "image/png": "[encoded data removed]",
      "text/plain": [
       "plot without title"
      ]
     },
     "metadata": {},
     "output_type": "display_data"
    }
   ],
   "source": [
    "hist(crime$wsta)\n",
    "boxplot(crime$wsta)\n",
    "summary(crime$wsta)"
   ]
  },
  {
   "cell_type": "code",
   "execution_count": 23,
   "metadata": {},
   "outputs": [
    {
     "data": {
      "image/png": "[encoded data removed]",
      "text/plain": [
       "Plot with title \"Histogram of crime$polpc\""
      ]
     },
     "metadata": {},
     "output_type": "display_data"
    },
    {
     "data": {
      "text/plain": [
       "     Min.   1st Qu.    Median      Mean   3rd Qu.      Max. \n",
       "0.0007459 0.0012308 0.0014853 0.0017022 0.0018768 0.0090543 "
      ]
     },
     "metadata": {},
     "output_type": "display_data"
    },
    {
     "data": {
      "image/png": "[encoded data removed]",
      "text/plain": [
       "plot without title"
      ]
     },
     "metadata": {},
     "output_type": "display_data"
    }
   ],
   "source": [
    "hist(crime$polpc)\n",
    "boxplot(crime$polpc)\n",
    "summary(crime$polpc)"
   ]
  },
  {
   "cell_type": "code",
   "execution_count": 24,
   "metadata": {},
   "outputs": [
    {
     "data": {
      "image/png": "[encoded data removed]",
      "text/plain": [
       "Plot with title \"Histogram of crime$mix\""
      ]
     },
     "metadata": {},
     "output_type": "display_data"
    },
    {
     "data": {
      "text/plain": [
       "   Min. 1st Qu.  Median    Mean 3rd Qu.    Max. \n",
       "0.01961 0.08073 0.10186 0.12884 0.15175 0.46512 "
      ]
     },
     "metadata": {},
     "output_type": "display_data"
    },
    {
     "data": {
      "image/png": "[encoded data removed]",
      "text/plain": [
       "plot without title"
      ]
     },
     "metadata": {},
     "output_type": "display_data"
    }
   ],
   "source": [
    "hist(crime$mix)\n",
    "boxplot(crime$mix)\n",
    "summary(crime$mix)"
   ]
  },
  {
   "cell_type": "code",
   "execution_count": 25,
   "metadata": {},
   "outputs": [
    {
     "data": {
      "text/plain": [
       "\n",
       "Call:\n",
       "lm(formula = crmrte ~ density + prbconv + central + polpc + west + \n",
       "    prbarr + wcon + wloc + wfed + wtrd + wfir + wtuc + wmfg + \n",
       "    mix + wsta + pctymle, data = crime)\n",
       "\n",
       "Coefficients:\n",
       "(Intercept)      density      prbconv      central        polpc         west  \n",
       "  2.736e-02    5.803e-03   -1.756e-02   -8.532e-03    6.232e+00   -1.345e-02  \n",
       "     prbarr         wcon         wloc         wfed         wtrd         wfir  \n",
       " -4.952e-02    2.099e-05    1.863e-05    3.111e-05    1.379e-05   -3.382e-05  \n",
       "       wtuc         wmfg          mix         wsta      pctymle  \n",
       "  5.115e-06   -2.493e-06   -2.976e-03   -1.777e-05    6.983e-02  \n"
      ]
     },
     "metadata": {},
     "output_type": "display_data"
    }
   ],
   "source": [
    "model2<-lm(crmrte~density+prbconv+central+polpc+west+prbarr+wcon+wloc+wfed+wtrd+wfir+wtuc+wmfg+mix+wsta+pctymle, \n",
    "           data=crime)\n",
    "\n",
    "model2"
   ]
  },
  {
   "cell_type": "code",
   "execution_count": 26,
   "metadata": {},
   "outputs": [
    {
     "data": {
      "text/plain": [
       "\n",
       "Call:\n",
       "lm(formula = crmrte ~ density + prbconv + central + polpc + west + \n",
       "    prbarr + wcon + wloc + wfed + wtrd + wfir + wtuc + wmfg + \n",
       "    mix + wsta + pctymle, data = crime)\n",
       "\n",
       "Residuals:\n",
       "       Min         1Q     Median         3Q        Max \n",
       "-0.0205567 -0.0063577  0.0001774  0.0040557  0.0310715 \n",
       "\n",
       "Coefficients:\n",
       "              Estimate Std. Error t value Pr(>|t|)    \n",
       "(Intercept)  2.736e-02  1.823e-02   1.501 0.137700    \n",
       "density      5.803e-03  9.586e-04   6.054 5.37e-08 ***\n",
       "prbconv     -1.756e-02  3.307e-03  -5.310 1.11e-06 ***\n",
       "central     -8.532e-03  2.382e-03  -3.582 0.000607 ***\n",
       "polpc        6.232e+00  1.342e+00   4.643 1.45e-05 ***\n",
       "west        -1.345e-02  2.491e-03  -5.401 7.71e-07 ***\n",
       "prbarr      -4.952e-02  9.837e-03  -5.034 3.27e-06 ***\n",
       "wcon         2.099e-05  2.817e-05   0.745 0.458522    \n",
       "wloc         1.863e-05  5.102e-05   0.365 0.716014    \n",
       "wfed         3.111e-05  2.524e-05   1.233 0.221651    \n",
       "wtrd         1.378e-05  4.832e-05   0.285 0.776219    \n",
       "wfir        -3.382e-05  2.870e-05  -1.178 0.242459    \n",
       "wtuc         5.115e-06  1.549e-05   0.330 0.742248    \n",
       "wmfg        -2.493e-06  1.461e-05  -0.171 0.865029    \n",
       "mix         -2.976e-03  1.505e-02  -0.198 0.843821    \n",
       "wsta        -1.777e-05  2.619e-05  -0.679 0.499538    \n",
       "pctymle      6.983e-02  4.546e-02   1.536 0.128756    \n",
       "---\n",
       "Signif. codes:  0 '***' 0.001 '**' 0.01 '*' 0.05 '.' 0.1 ' ' 1\n",
       "\n",
       "Residual standard error: 0.008975 on 74 degrees of freedom\n",
       "Multiple R-squared:  0.8128,\tAdjusted R-squared:  0.7724 \n",
       "F-statistic: 20.09 on 16 and 74 DF,  p-value: < 2.2e-16\n"
      ]
     },
     "metadata": {},
     "output_type": "display_data"
    }
   ],
   "source": [
    "summary(model2)"
   ]
  },
  {
   "cell_type": "markdown",
   "metadata": {},
   "source": [
    "### Correlation matrix - A Focused Look\n",
    "In further determining which variables within our model 2 would provide higher prediction powers for our model, we take a closer look at correlation matrix to determine each correlation with crmrte, and multicollinearity among these predictors."
   ]
  },
  {
   "cell_type": "code",
   "execution_count": 27,
   "metadata": {},
   "outputs": [
    {
     "name": "stderr",
     "output_type": "stream",
     "text": [
      "Warning message in ind1:ind2:\n",
      "\"numerical expression has 2 elements: only the first used\"Warning message in ind1:ind2:\n",
      "\"numerical expression has 3 elements: only the first used\"Warning message in text.default(pos.xlabel[, 1], pos.xlabel[, 2], newcolnames, srt = tl.srt, :\n",
      "\"\"text.cex\" is not a graphical parameter\"Warning message in text.default(pos.ylabel[, 1], pos.ylabel[, 2], newrownames, col = tl.col, :\n",
      "\"\"text.cex\" is not a graphical parameter\"Warning message in title(title, ...):\n",
      "\"\"text.cex\" is not a graphical parameter\""
     ]
    },
    {
     "data": {
      "image/png": "[encoded data removed]",
      "text/plain": [
       "Plot with title \"\""
      ]
     },
     "metadata": {},
     "output_type": "display_data"
    }
   ],
   "source": [
    "cor_matrix2 = cor(crime[c('crmrte','prbarr','prbconv','polpc','density','west','central')], \n",
    "                          use = \"complete.obs\")\n",
    "# Use heatmap to illustrate\n",
    "col <- colorRampPalette(c(\"#BB4444\", \"#EE9988\", \"#FFFFFF\", \"#77AADD\", \"#4477AA\"))\n",
    "corrplot(cor_matrix2, method=\"color\", col=col(500), type='lower',\n",
    "order=\"hclust\",\n",
    "addCoef.col = \"black\", # Add coefficient of correlation\n",
    "number.cex=1,\n",
    "text.cex=1,\n",
    "tl.col=\"black\", tl.srt=90, #Text label color and rotation\n",
    "# hide correlation coefficient on the principal diagonal\n",
    "diag=FALSE\n",
    ")"
   ]
  },
  {
   "cell_type": "markdown",
   "metadata": {},
   "source": [
    "### Model 3\n",
    "\n",
    "In model 3, we take out variables that were suggested as statistically insignificant from model 2.  This will reduce the number of independent variables, while retaining prediction accuracy of the model. "
   ]
  },
  {
   "cell_type": "code",
   "execution_count": 28,
   "metadata": {},
   "outputs": [],
   "source": [
    "model3 <- lm(crmrte ~ density + prbconv + central + prbarr + west + polpc, data=crime)"
   ]
  },
  {
   "cell_type": "code",
   "execution_count": 29,
   "metadata": {},
   "outputs": [
    {
     "data": {
      "text/plain": [
       "\n",
       "Call:\n",
       "lm(formula = crmrte ~ density + prbconv + central + prbarr + \n",
       "    west + polpc, data = crime)\n",
       "\n",
       "Residuals:\n",
       "       Min         1Q     Median         3Q        Max \n",
       "-0.0236106 -0.0052506 -0.0006507  0.0045274  0.0300790 \n",
       "\n",
       "Coefficients:\n",
       "              Estimate Std. Error t value Pr(>|t|)    \n",
       "(Intercept)  0.0456821  0.0034815  13.121  < 2e-16 ***\n",
       "density      0.0062668  0.0007782   8.053 4.76e-12 ***\n",
       "prbconv     -0.0185508  0.0029085  -6.378 9.29e-09 ***\n",
       "central     -0.0080727  0.0022195  -3.637 0.000475 ***\n",
       "prbarr      -0.0536658  0.0086402  -6.211 1.93e-08 ***\n",
       "west        -0.0141026  0.0023466  -6.010 4.62e-08 ***\n",
       "polpc        6.6962062  1.1831548   5.660 2.06e-07 ***\n",
       "---\n",
       "Signif. codes:  0 '***' 0.001 '**' 0.01 '*' 0.05 '.' 0.1 ' ' 1\n",
       "\n",
       "Residual standard error: 0.008831 on 84 degrees of freedom\n",
       "Multiple R-squared:  0.7943,\tAdjusted R-squared:  0.7796 \n",
       "F-statistic: 54.06 on 6 and 84 DF,  p-value: < 2.2e-16\n"
      ]
     },
     "metadata": {},
     "output_type": "display_data"
    }
   ],
   "source": [
    "summary(model3)"
   ]
  },
  {
   "cell_type": "markdown",
   "metadata": {},
   "source": [
    "By dropping 10 predictive variables from model 2, we do not compromise the prediction accuracy of the model as the adjusted R-squared rises slightly from 0.7724 to 0.7796 "
   ]
  },
  {
   "cell_type": "markdown",
   "metadata": {},
   "source": [
    "### Model 4\n",
    "In model 4, we drop central and polpc from model3, based on the following:\n",
    "i) central and polpc have lowest correlation with crmrte.  \n",
    "ii) central has high collinearity with density (corr = 0.36)\n",
    "    and polpc has high collinearity with prbarr (corr = 0.43)"
   ]
  },
  {
   "cell_type": "code",
   "execution_count": 30,
   "metadata": {},
   "outputs": [],
   "source": [
    "model4 <- lm(crmrte ~ density + prbconv + prbarr + west, data=crime)"
   ]
  },
  {
   "cell_type": "code",
   "execution_count": 31,
   "metadata": {},
   "outputs": [
    {
     "data": {
      "text/plain": [
       "\n",
       "Call:\n",
       "lm(formula = crmrte ~ density + prbconv + prbarr + west, data = crime)\n",
       "\n",
       "Residuals:\n",
       "      Min        1Q    Median        3Q       Max \n",
       "-0.020664 -0.006562 -0.000780  0.003281  0.043265 \n",
       "\n",
       "Coefficients:\n",
       "              Estimate Std. Error t value Pr(>|t|)    \n",
       "(Intercept)  0.0409125  0.0042101   9.718 1.70e-15 ***\n",
       "density      0.0072157  0.0008299   8.695 2.06e-13 ***\n",
       "prbconv     -0.0135802  0.0033974  -3.997 0.000135 ***\n",
       "prbarr      -0.0268425  0.0090028  -2.982 0.003729 ** \n",
       "west        -0.0095732  0.0026931  -3.555 0.000618 ***\n",
       "---\n",
       "Signif. codes:  0 '***' 0.001 '**' 0.01 '*' 0.05 '.' 0.1 ' ' 1\n",
       "\n",
       "Residual standard error: 0.01095 on 86 degrees of freedom\n",
       "Multiple R-squared:  0.6762,\tAdjusted R-squared:  0.6611 \n",
       "F-statistic:  44.9 on 4 and 86 DF,  p-value: < 2.2e-16\n"
      ]
     },
     "metadata": {},
     "output_type": "display_data"
    }
   ],
   "source": [
    "summary(model4)"
   ]
  },
  {
   "cell_type": "markdown",
   "metadata": {},
   "source": [
    "Degrees of freedom increases to 86, while model accuracy drops from 0.7796  to 0.6611 "
   ]
  },
  {
   "cell_type": "markdown",
   "metadata": {},
   "source": [
    "### Model 5\n",
    "In model 5, we drop the variable \"west\" from model 4, as west (and also central) are location-specific variables which are not practical variables in formulating our judicial campaign.  \n",
    "\n",
    "Based on this practical significance, we choose to drop west rather than prbarr, even though prbarr is less statistically significant when compared to density, west, and prbconv."
   ]
  },
  {
   "cell_type": "code",
   "execution_count": 32,
   "metadata": {},
   "outputs": [],
   "source": [
    "model5 <-lm(crmrte ~ density + prbarr + prbconv, data=crime)"
   ]
  },
  {
   "cell_type": "code",
   "execution_count": 33,
   "metadata": {},
   "outputs": [
    {
     "data": {
      "text/plain": [
       "\n",
       "Call:\n",
       "lm(formula = crmrte ~ density + prbarr + prbconv, data = crime)\n",
       "\n",
       "Residuals:\n",
       "      Min        1Q    Median        3Q       Max \n",
       "-0.020097 -0.007930 -0.003335  0.004743  0.045463 \n",
       "\n",
       "Coefficients:\n",
       "              Estimate Std. Error t value Pr(>|t|)    \n",
       "(Intercept)  0.0396457  0.0044667   8.876 8.07e-14 ***\n",
       "density      0.0074657  0.0008804   8.479 5.22e-13 ***\n",
       "prbarr      -0.0311646  0.0094981  -3.281 0.001489 ** \n",
       "prbconv     -0.0140069  0.0036152  -3.874 0.000207 ***\n",
       "---\n",
       "Signif. codes:  0 '***' 0.001 '**' 0.01 '*' 0.05 '.' 0.1 ' ' 1\n",
       "\n",
       "Residual standard error: 0.01166 on 87 degrees of freedom\n",
       "Multiple R-squared:  0.6286,\tAdjusted R-squared:  0.6158 \n",
       "F-statistic: 49.09 on 3 and 87 DF,  p-value: < 2.2e-16\n"
      ]
     },
     "metadata": {},
     "output_type": "display_data"
    }
   ],
   "source": [
    "summary(model5)"
   ]
  },
  {
   "cell_type": "markdown",
   "metadata": {},
   "source": [
    "Model 5 is believed to have 3 predictive variables of statistical and practical significance with 87 degree of freedom and adjusted R-squared of 0.6158"
   ]
  },
  {
   "cell_type": "markdown",
   "metadata": {},
   "source": [
    "## 3. An Assessment of the CLM Assumptions\n",
    "\n",
    "For all of our models, we have kept the Classical Linear Model (CLM) assumptions in mind. To illustrate how, below is an example with the complete assessment of Model 5 (our selected model).\n",
    "\n",
    "### Model 5 - CLM Assumptions"
   ]
  },
  {
   "cell_type": "markdown",
   "metadata": {},
   "source": [
    "#### 1. Linear population model\n",
    "\n",
    "The assumption here is that the TRUE relationship between crime rate and population density is linear i.e. the model is correctly specified. This assumption is not often justified convincingly, and statements used to justify the assumption may reflect the following \"that's what everybody does\". Justifying this assumption more clearly requires more inherent knowledge of the dataset and the variables at play."
   ]
  },
  {
   "cell_type": "markdown",
   "metadata": {},
   "source": [
    "#### 2. Random Sampling\n",
    "\n",
    "If the sampling is not i.i.d, the estimation and inference will be substantially affected if it is not taken into account. \n",
    "\n",
    "In our case, data is collected from Cornwell and Trumball study for a selection of counties in North Carolina. It includes data collected from FBI's Uniform Crime Reports, North Carolina Department of Correction, census data, FBI's police agency employee counts, North Carolina Employment Security Commission.\n",
    "\n",
    "There are 100 counties in the state of North Carolina. Our dataset has data for 91 unique counties. This will be considered a representative sample for the state and as being appropriate for our analysis."
   ]
  },
  {
   "cell_type": "markdown",
   "metadata": {},
   "source": [
    "#### 3. No perfect multicollinearity\n",
    "\n",
    "In this assumption, no one regressor can be equal to a linear combination of other regressors. \n",
    "\n",
    "For a given predictor (p), multicollinearity can be assessed by computing a score called the variance inflation factor (or VIF), which measures how much the variance of a regression coefficient is inflated due to multicollinearity in the model. Any VIF of 10 or more provides evidence of serious multicollinearity."
   ]
  },
  {
   "cell_type": "code",
   "execution_count": 34,
   "metadata": {},
   "outputs": [
    {
     "data": {
      "text/html": [
       "<dl class=dl-horizontal>\n",
       "\t<dt>density</dt>\n",
       "\t\t<dd>1.17711606382627</dd>\n",
       "\t<dt>prbarr</dt>\n",
       "\t\t<dd>1.12001521160596</dd>\n",
       "\t<dt>prbconv</dt>\n",
       "\t\t<dd>1.07356542261607</dd>\n",
       "</dl>\n"
      ],
      "text/latex": [
       "\\begin{description*}\n",
       "\\item[density] 1.17711606382627\n",
       "\\item[prbarr] 1.12001521160596\n",
       "\\item[prbconv] 1.07356542261607\n",
       "\\end{description*}\n"
      ],
      "text/markdown": [
       "density\n",
       ":   1.17711606382627prbarr\n",
       ":   1.12001521160596prbconv\n",
       ":   1.07356542261607\n",
       "\n"
      ],
      "text/plain": [
       " density   prbarr  prbconv \n",
       "1.177116 1.120015 1.073565 "
      ]
     },
     "metadata": {},
     "output_type": "display_data"
    }
   ],
   "source": [
    "vif(model5)"
   ]
  },
  {
   "cell_type": "markdown",
   "metadata": {},
   "source": [
    "In our model, the VIF values of our variables are not large and don't compromise the model accuracy."
   ]
  },
  {
   "cell_type": "markdown",
   "metadata": {},
   "source": [
    "#### 4. Zero-conditional mean\n",
    "\n",
    "From this assumption onwards, we begin looking at the diagnostic plots\n",
    "\n",
    "The linear function is a conditional expectation which exists and is unique. This means that there is no functional relationship between x and u. We will analyze this by plotting residuals versus fitted values below. "
   ]
  },
  {
   "cell_type": "code",
   "execution_count": 35,
   "metadata": {},
   "outputs": [
    {
     "data": {
      "image/png": "[encoded data removed]",
      "text/plain": [
       "Plot with title \"\""
      ]
     },
     "metadata": {},
     "output_type": "display_data"
    }
   ],
   "source": [
    "plot(model5, which = 1)"
   ]
  },
  {
   "cell_type": "markdown",
   "metadata": {},
   "source": [
    "A parabolic shape generally indicates clear deviation from the zero conditional mean. Our plot however does not follow that pattern and shows a slightly uniform deviation. "
   ]
  },
  {
   "cell_type": "markdown",
   "metadata": {},
   "source": [
    "#### 5. Homoscedasticity\n",
    "\n",
    "Homoscedasticity describes a situation in which the error term is the same across all values of the independent variables.\n",
    "Our residuals versus fitted values plot indicates heteroskedasticity - the band seems to have uneven thickness.\n",
    "\n",
    "We can analyze this further from another diagnostic plot: scale-location plot"
   ]
  },
  {
   "cell_type": "code",
   "execution_count": 36,
   "metadata": {},
   "outputs": [
    {
     "data": {
      "image/png": "[encoded data removed]",
      "text/plain": [
       "Plot with title \"\""
      ]
     },
     "metadata": {},
     "output_type": "display_data"
    }
   ],
   "source": [
    "plot(model5, which = 3)"
   ]
  },
  {
   "cell_type": "markdown",
   "metadata": {},
   "source": [
    "Due to the evidence above, we will proceed with robust standard errors."
   ]
  },
  {
   "cell_type": "markdown",
   "metadata": {},
   "source": [
    "#### 6. Normality of Errors\n",
    "\n",
    "The normality of errors assumption is needed for the error rates we are willing to accept when making decisions about the process. If the random errors are not from a normal distribution, incorrect decisions will be made more or less frequently than the stated confidence levels for our inferences indicate.\n",
    "\n",
    "To check for normality of errors, we can look at another diagnostic plot: the Normal Q-Q plot"
   ]
  },
  {
   "cell_type": "code",
   "execution_count": 37,
   "metadata": {},
   "outputs": [
    {
     "data": {
      "image/png": "[encoded data removed]",
      "text/plain": [
       "Plot with title \"\""
      ]
     },
     "metadata": {},
     "output_type": "display_data"
    }
   ],
   "source": [
    "plot(model5, which = 2)"
   ]
  },
  {
   "cell_type": "markdown",
   "metadata": {},
   "source": [
    "In addition to the normal Q-Q plot, we can analyze the residuals for the normality of errors assumption using a histogram of the residuals."
   ]
  },
  {
   "cell_type": "code",
   "execution_count": 38,
   "metadata": {
    "scrolled": true
   },
   "outputs": [
    {
     "data": {
      "image/png": "[encoded data removed]",
      "text/plain": [
       "Plot with title \"Residuals from Linear Model Predicting Crime Rate\""
      ]
     },
     "metadata": {},
     "output_type": "display_data"
    }
   ],
   "source": [
    "hist(model5$residuals, breaks = 20, main = \"Residuals from Linear Model Predicting Crime Rate\")"
   ]
  },
  {
   "cell_type": "markdown",
   "metadata": {},
   "source": [
    "Both methods suggest we have a rightward skew. However, we have a large sample size, so the Central Limit Theorem (CLT) tells us that our estimators will have a normal sampling distribution. Our look at the histogram confirms that we aren't in a situation with an extreme skew, so our n=91 should be sufficient for the CLT"
   ]
  },
  {
   "cell_type": "markdown",
   "metadata": {},
   "source": [
    "## 4. A Regression Table"
   ]
  },
  {
   "cell_type": "code",
   "execution_count": 39,
   "metadata": {},
   "outputs": [
    {
     "name": "stdout",
     "output_type": "stream",
     "text": [
      "\n",
      "===================================================================================================\n",
      "                                                  Dependent variable:                              \n",
      "                    -------------------------------------------------------------------------------\n",
      "                        crmrte                                  crmrte                             \n",
      "                          (1)             (2)             (3)             (4)             (5)      \n",
      "---------------------------------------------------------------------------------------------------\n",
      "density                0.009***                                                                    \n",
      "                        (0.001)                                                                    \n",
      "                                                                                                   \n",
      "density                                0.006***        0.006***        0.007***        0.007***    \n",
      "                                        (0.001)         (0.001)         (0.001)         (0.001)    \n",
      "                                                                                                   \n",
      "prbconv                                -0.018***       -0.019***       -0.014***       -0.014***   \n",
      "                                        (0.003)         (0.003)         (0.003)         (0.004)    \n",
      "                                                                                                   \n",
      "central                                -0.009***       -0.008***                                   \n",
      "                                        (0.002)         (0.002)                                    \n",
      "                                                                                                   \n",
      "polpc                                  6.232***        6.696***                                    \n",
      "                                        (1.342)         (1.183)                                    \n",
      "                                                                                                   \n",
      "west                                   -0.013***       -0.014***       -0.010***                   \n",
      "                                        (0.002)         (0.002)         (0.003)                    \n",
      "                                                                                                   \n",
      "prbarr                                 -0.050***       -0.054***       -0.027***       -0.031***   \n",
      "                                        (0.010)         (0.009)         (0.009)         (0.009)    \n",
      "                                                                                                   \n",
      "wcon                                    0.00002                                                    \n",
      "                                       (0.00003)                                                   \n",
      "                                                                                                   \n",
      "wloc                                    0.00002                                                    \n",
      "                                       (0.0001)                                                    \n",
      "                                                                                                   \n",
      "wfed                                    0.00003                                                    \n",
      "                                       (0.00003)                                                   \n",
      "                                                                                                   \n",
      "wtrd                                    0.00001                                                    \n",
      "                                       (0.00005)                                                   \n",
      "                                                                                                   \n",
      "wfir                                   -0.00003                                                    \n",
      "                                       (0.00003)                                                   \n",
      "                                                                                                   \n",
      "wtuc                                    0.00001                                                    \n",
      "                                       (0.00002)                                                   \n",
      "                                                                                                   \n",
      "wmfg                                   -0.00000                                                    \n",
      "                                       (0.00001)                                                   \n",
      "                                                                                                   \n",
      "mix                                     -0.003                                                     \n",
      "                                        (0.015)                                                    \n",
      "                                                                                                   \n",
      "wsta                                   -0.00002                                                    \n",
      "                                       (0.00003)                                                   \n",
      "                                                                                                   \n",
      "pctymle                                  0.070                                                     \n",
      "                                        (0.045)                                                    \n",
      "                                                                                                   \n",
      "Constant               0.020***          0.027         0.046***        0.041***        0.040***    \n",
      "                        (0.002)         (0.018)         (0.003)         (0.004)         (0.004)    \n",
      "                                                                                                   \n",
      "---------------------------------------------------------------------------------------------------\n",
      "Observations              91              91              91              91              91       \n",
      "R2                       0.531           0.813           0.794           0.676           0.629     \n",
      "Adjusted R2              0.526           0.772           0.780           0.661           0.616     \n",
      "Residual Std. Error 0.013 (df = 89) 0.009 (df = 74) 0.009 (df = 84) 0.011 (df = 86) 0.012 (df = 87)\n",
      "===================================================================================================\n",
      "Note:                                                                   *p<0.1; **p<0.05; ***p<0.01\n"
     ]
    }
   ],
   "source": [
    "stargazer(model1,model2,model3,model4,model5, type=\"text\", omit.stat='f')"
   ]
  },
  {
   "cell_type": "markdown",
   "metadata": {},
   "source": [
    "The results from our estimation models are presented in the regression table above.\n",
    "\n",
    "#### Model 1\n",
    "\n",
    "Model1 one suggests that if population density increases by 1 percent, crime rate is estimated to rise by .009054 percent. As a single predicting variable, density is statistical significance in estimating crime rate with an adjusted R2 of 0.526.\n",
    "This result highlights the tendency that higher population density areas may have more human to human interactions, leading to potentially higher rates of crime. Additionally, a higher cost of living in populous areas may lead to more financial strain and therefore an increased driving force behind certain crimes. \n",
    "With further analysis into each data distribution, we found that a one-standard-deviation move of density (1.5144) will cause a crime rate change of 0.0137, according to model1 prediction. Such a move is large compared to one-standard-deviation move of crime rate itself (0.01881). Therefore, we could conclude that density is a practical significance variable in predicting crime rate.\n",
    "\n",
    "For a crime reduction policy, avoiding further economic development in condensed population areas would be an effective political tool.\n",
    "\n",
    "#### Model 2\n",
    "\n",
    "Although we include all variables with correlation over 0.1 with crime rate, only six variables indicate statistical significance. Adjusted R2 improves substantially from 0.526 to 0.772, while the degrees of freedom suffers a sharp drop from 89 to 74.\n",
    "\n",
    "In terms of practical significance, independent variables which do not indicate statistical significance also do not show practical significance in predicting crime rate, as their one-standard-deviation move tends to generate very small changes in crime rate (less than 10%), comparing one-standard-deviation move of crime rate itself.\n",
    "\n",
    "For example, one-standard-deviation move of wmfg (87.84) will cause a crime rate change of -0.0002, according to model2 prediction. Such a move is small compared to one-standard-deviation move of crime rate itself (0.01881). Therefore, we could conclude that wmfg is not a practically significant variable in predicting crime rate.\n",
    "\n",
    "#### Model 3\n",
    "\n",
    "Taking out all variables suggested as statistically insignificant from model2 improves model simplicity with degree of freedom bounce to 84, while preserving accuracy of model prediction at same level as model2 as indicated by Adjusted R2.\n",
    "\"prbconv\", \"prbarr\" and \"polpc\": The implied crime-deterring actions negatively affect crime rate as people will weigh benefits in committing crimes with the probabilities of apprehension and punishment. We also find that each variable is a practically significant variable in predicting crime rate, i.e., one-standard-deviation move of prbarr (0.1369) will cause crime rate change of -0.0068, according to mode3 prediction. Such a move is substantial (36%) compared to one-standard-deviation move of crime rate itself (0.01881).\n",
    "\n",
    "For a crime reduction policy, increasing conviction rates, a police presence, and arrest rates are all major political tools in fighting crime.\n",
    "\n",
    "\"central\", \"west\": These dummy variables reflect regional or cultural factors that may affect crime rate in North Carolina. We also find that each variable is a statistically significant variable in predicting crime rate, i.e., one-standard-deviation move of west (0.43699) will cause crime rate change of -0.0059, according to model3 prediction. Such a move is substantial (31%) compared to one-standard-deviation move of crime rate itself (0.01881).\n",
    "However, it may be unclear how understanding the impact of these variables alone will influence a crime reduction policy.\n",
    "\n",
    "#### Model 4\n",
    "Dropping two predicting variables which have lowest correlation with crime rate, and multicollinearity with other predicting variables from model3, we simplify our prediction model with degree of freedom rises to 86, while model accuracy drop slightly (with adjusted R2 drop from 0.78 to 0.661)\n",
    "\n",
    "#### Model 5\n",
    "We drop predicting variable \"west\" from model 4 due to its unclear practical application for formulating a political policy. Our decision to drop \"west\" variable is based on practicality in formulating campaign, even though regression coefficient of \"west\" has superior statistic significance than prbarr\n",
    "\n",
    "Our final model maintains high accuracy with adjusted R2 of 0.616, with three predicting variables namely, density, prbconv, and prbarr."
   ]
  },
  {
   "cell_type": "code",
   "execution_count": 40,
   "metadata": {},
   "outputs": [
    {
     "data": {
      "text/html": [
       "<table>\n",
       "<thead><tr><th></th><th scope=col>(Intercept)</th><th scope=col>density</th><th scope=col>prbarr</th><th scope=col>prbconv</th></tr></thead>\n",
       "<tbody>\n",
       "\t<tr><th scope=row>(Intercept)</th><td> 1.046778e-04</td><td>-8.219547e-06</td><td>-2.149946e-04</td><td>-5.226686e-05</td></tr>\n",
       "\t<tr><th scope=row>density</th><td>-8.219547e-06</td><td> 1.137274e-06</td><td> 1.520432e-05</td><td> 3.906394e-06</td></tr>\n",
       "\t<tr><th scope=row>prbarr</th><td>-2.149946e-04</td><td> 1.520432e-05</td><td> 4.832364e-04</td><td> 9.973289e-05</td></tr>\n",
       "\t<tr><th scope=row>prbconv</th><td>-5.226686e-05</td><td> 3.906394e-06</td><td> 9.973289e-05</td><td> 3.018477e-05</td></tr>\n",
       "</tbody>\n",
       "</table>\n"
      ],
      "text/latex": [
       "\\begin{tabular}{r|llll}\n",
       "  & (Intercept) & density & prbarr & prbconv\\\\\n",
       "\\hline\n",
       "\t(Intercept) &  1.046778e-04 & -8.219547e-06 & -2.149946e-04 & -5.226686e-05\\\\\n",
       "\tdensity & -8.219547e-06 &  1.137274e-06 &  1.520432e-05 &  3.906394e-06\\\\\n",
       "\tprbarr & -2.149946e-04 &  1.520432e-05 &  4.832364e-04 &  9.973289e-05\\\\\n",
       "\tprbconv & -5.226686e-05 &  3.906394e-06 &  9.973289e-05 &  3.018477e-05\\\\\n",
       "\\end{tabular}\n"
      ],
      "text/markdown": [
       "\n",
       "| <!--/--> | (Intercept) | density | prbarr | prbconv |\n",
       "|---|---|---|---|---|\n",
       "| (Intercept) |  1.046778e-04 | -8.219547e-06 | -2.149946e-04 | -5.226686e-05 |\n",
       "| density | -8.219547e-06 |  1.137274e-06 |  1.520432e-05 |  3.906394e-06 |\n",
       "| prbarr | -2.149946e-04 |  1.520432e-05 |  4.832364e-04 |  9.973289e-05 |\n",
       "| prbconv | -5.226686e-05 |  3.906394e-06 |  9.973289e-05 |  3.018477e-05 |\n",
       "\n"
      ],
      "text/plain": [
       "            (Intercept)   density       prbarr        prbconv      \n",
       "(Intercept)  1.046778e-04 -8.219547e-06 -2.149946e-04 -5.226686e-05\n",
       "density     -8.219547e-06  1.137274e-06  1.520432e-05  3.906394e-06\n",
       "prbarr      -2.149946e-04  1.520432e-05  4.832364e-04  9.973289e-05\n",
       "prbconv     -5.226686e-05  3.906394e-06  9.973289e-05  3.018477e-05"
      ]
     },
     "metadata": {},
     "output_type": "display_data"
    }
   ],
   "source": [
    "vcovHC(model5)"
   ]
  },
  {
   "cell_type": "code",
   "execution_count": 41,
   "metadata": {},
   "outputs": [
    {
     "data": {
      "text/plain": [
       "\n",
       "t test of coefficients:\n",
       "\n",
       "              Estimate Std. Error t value  Pr(>|t|)    \n",
       "(Intercept)  0.0396457  0.0102312  3.8750 0.0002062 ***\n",
       "density      0.0074657  0.0010664  7.0006  5.05e-10 ***\n",
       "prbarr      -0.0311646  0.0219826 -1.4177 0.1598524    \n",
       "prbconv     -0.0140069  0.0054941 -2.5495 0.0125416 *  \n",
       "---\n",
       "Signif. codes:  0 '***' 0.001 '**' 0.01 '*' 0.05 '.' 0.1 ' ' 1\n"
      ]
     },
     "metadata": {},
     "output_type": "display_data"
    }
   ],
   "source": [
    "coeftest(model5, vcov=vcovHC)"
   ]
  },
  {
   "cell_type": "markdown",
   "metadata": {},
   "source": [
    "From our results above, Model 5 has a high Multiple R-squared value and all the coefficients are statistically significant."
   ]
  },
  {
   "cell_type": "markdown",
   "metadata": {},
   "source": [
    "## 5. A Discussion of Omitted Variables"
   ]
  },
  {
   "cell_type": "markdown",
   "metadata": {},
   "source": [
    "\n",
    "Within the dataset, we've decided to analyze the effects of omitting the following variables from our model:\n",
    "* wfed: wage of federal employees\n",
    "* wsta: wage of state employees\n",
    "* wloc: wage of local government employees \n",
    "* urban: variable claiming whether an area is urban or not\n",
    "* prbpris: probability of a prison sentence \n",
    "* polpc: police per capita\n",
    "\n",
    "#### Omitting wfed\n",
    "\n",
    "$$ crime\\_rate \\text{(assumed true model)} = \\beta_0 + \\beta_1* density + \\beta_2* probability\\_arrest + \\beta_3* probability\\_conviction+ \\beta_4*federal\\_wages + u$$\n",
    " \n",
    "$$ federal\\_wages= \\alpha_0 + \\alpha_1*density + \\alpha_2*probability\\_arrest+ \\alpha_3*probability\\_conviction  +u $$\n",
    " \n",
    "$$y=(\\beta_0 + \\beta_4\\alpha_0) +(\\beta_1+\\beta_4\\alpha_1)*density + (\\beta_2+\\beta_4\\alpha_2)*probability\\_arrest  + (\\beta_3+\\beta_4\\alpha_3)*probability\\_conviction+(\\beta_4v+u)$$"
   ]
  },
  {
   "cell_type": "code",
   "execution_count": 42,
   "metadata": {},
   "outputs": [
    {
     "data": {
      "text/html": [
       "<table>\n",
       "<thead><tr><th></th><th scope=col>crmrte</th><th scope=col>density</th><th scope=col>prbarr</th><th scope=col>prbconv</th><th scope=col>wfed</th></tr></thead>\n",
       "<tbody>\n",
       "\t<tr><th scope=row>crmrte</th><td> 1.0000000 </td><td> 0.7289632 </td><td>-0.39332974</td><td>-0.38597236</td><td> 0.48615576</td></tr>\n",
       "\t<tr><th scope=row>density</th><td> 0.7289632 </td><td> 1.0000000 </td><td>-0.30138532</td><td>-0.22692802</td><td> 0.58578704</td></tr>\n",
       "\t<tr><th scope=row>prbarr</th><td>-0.3933297 </td><td>-0.3013853 </td><td> 1.00000000</td><td>-0.05603134</td><td>-0.20866952</td></tr>\n",
       "\t<tr><th scope=row>prbconv</th><td>-0.3859724 </td><td>-0.2269280 </td><td>-0.05603134</td><td> 1.00000000</td><td>-0.06028425</td></tr>\n",
       "\t<tr><th scope=row>wfed</th><td> 0.4861558 </td><td> 0.5857870 </td><td>-0.20866952</td><td>-0.06028425</td><td> 1.00000000</td></tr>\n",
       "</tbody>\n",
       "</table>\n"
      ],
      "text/latex": [
       "\\begin{tabular}{r|lllll}\n",
       "  & crmrte & density & prbarr & prbconv & wfed\\\\\n",
       "\\hline\n",
       "\tcrmrte &  1.0000000  &  0.7289632  & -0.39332974 & -0.38597236 &  0.48615576\\\\\n",
       "\tdensity &  0.7289632  &  1.0000000  & -0.30138532 & -0.22692802 &  0.58578704\\\\\n",
       "\tprbarr & -0.3933297  & -0.3013853  &  1.00000000 & -0.05603134 & -0.20866952\\\\\n",
       "\tprbconv & -0.3859724  & -0.2269280  & -0.05603134 &  1.00000000 & -0.06028425\\\\\n",
       "\twfed &  0.4861558  &  0.5857870  & -0.20866952 & -0.06028425 &  1.00000000\\\\\n",
       "\\end{tabular}\n"
      ],
      "text/markdown": [
       "\n",
       "| <!--/--> | crmrte | density | prbarr | prbconv | wfed |\n",
       "|---|---|---|---|---|---|\n",
       "| crmrte |  1.0000000  |  0.7289632  | -0.39332974 | -0.38597236 |  0.48615576 |\n",
       "| density |  0.7289632  |  1.0000000  | -0.30138532 | -0.22692802 |  0.58578704 |\n",
       "| prbarr | -0.3933297  | -0.3013853  |  1.00000000 | -0.05603134 | -0.20866952 |\n",
       "| prbconv | -0.3859724  | -0.2269280  | -0.05603134 |  1.00000000 | -0.06028425 |\n",
       "| wfed |  0.4861558  |  0.5857870  | -0.20866952 | -0.06028425 |  1.00000000 |\n",
       "\n"
      ],
      "text/plain": [
       "        crmrte     density    prbarr      prbconv     wfed       \n",
       "crmrte   1.0000000  0.7289632 -0.39332974 -0.38597236  0.48615576\n",
       "density  0.7289632  1.0000000 -0.30138532 -0.22692802  0.58578704\n",
       "prbarr  -0.3933297 -0.3013853  1.00000000 -0.05603134 -0.20866952\n",
       "prbconv -0.3859724 -0.2269280 -0.05603134  1.00000000 -0.06028425\n",
       "wfed     0.4861558  0.5857870 -0.20866952 -0.06028425  1.00000000"
      ]
     },
     "metadata": {},
     "output_type": "display_data"
    }
   ],
   "source": [
    "cor(crime[c('crmrte','density','prbarr','prbconv','wfed')],use = \"complete.obs\")"
   ]
  },
  {
   "cell_type": "markdown",
   "metadata": {},
   "source": [
    "Using the correlation table, we see that wfed is positively correlated with crmrte, density, and prbconv, but negatively correlated with prbarr. The strongest correlation occurs with wfed and density, it appears that federal employees are typically paid more in areas with higher population density, this may be to cover the cost of living in these areas. "
   ]
  },
  {
   "cell_type": "code",
   "execution_count": 44,
   "metadata": {},
   "outputs": [
    {
     "data": {
      "text/plain": [
       "\n",
       "Call:\n",
       "lm(formula = crmrte ~ density + prbarr + prbconv + wfed, data = crime)\n",
       "\n",
       "Coefficients:\n",
       "(Intercept)      density       prbarr      prbconv         wfed  \n",
       "  2.571e-02    6.661e-03   -3.079e-02   -1.443e-02    3.435e-05  \n"
      ]
     },
     "metadata": {},
     "output_type": "display_data"
    }
   ],
   "source": [
    "model_with_wfed <- lm(crmrte~density+prbarr+prbconv+wfed,data=crime)\n",
    "model_with_wfed"
   ]
  },
  {
   "cell_type": "code",
   "execution_count": 47,
   "metadata": {},
   "outputs": [
    {
     "data": {
      "text/plain": [
       "\n",
       "Call:\n",
       "lm(formula = wfed ~ density + prbarr + prbconv, data = crime)\n",
       "\n",
       "Coefficients:\n",
       "(Intercept)      density       prbarr      prbconv  \n",
       "     405.82        23.44       -11.03        12.41  \n"
      ]
     },
     "metadata": {},
     "output_type": "display_data"
    }
   ],
   "source": [
    "wfed_dependent_var<-lm(wfed~density+prbarr+prbconv , data = crime)\n",
    "wfed_dependent_var"
   ]
  },
  {
   "cell_type": "code",
   "execution_count": 48,
   "metadata": {
    "scrolled": true
   },
   "outputs": [
    {
     "data": {
      "text/html": [
       "0.007466164"
      ],
      "text/latex": [
       "0.007466164"
      ],
      "text/markdown": [
       "0.007466164"
      ],
      "text/plain": [
       "[1] 0.007466164"
      ]
     },
     "metadata": {},
     "output_type": "display_data"
    },
    {
     "data": {
      "text/html": [
       "-0.0311688805"
      ],
      "text/latex": [
       "-0.0311688805"
      ],
      "text/markdown": [
       "-0.0311688805"
      ],
      "text/plain": [
       "[1] -0.03116888"
      ]
     },
     "metadata": {},
     "output_type": "display_data"
    },
    {
     "data": {
      "text/html": [
       "-0.0140037165"
      ],
      "text/latex": [
       "-0.0140037165"
      ],
      "text/markdown": [
       "-0.0140037165"
      ],
      "text/plain": [
       "[1] -0.01400372"
      ]
     },
     "metadata": {},
     "output_type": "display_data"
    }
   ],
   "source": [
    "omvb_density=(6.661e-03)+((3.435e-05)*23.44)\n",
    "omvb_density\n",
    "omvb_prbarr=(-3.079e-02)+((3.435e-05)*-11.03)\n",
    "omvb_prbarr\n",
    "omvb_prbconv=(-1.443e-02)+((3.435e-05)*12.41)\n",
    "omvb_prbconv"
   ]
  },
  {
   "cell_type": "markdown",
   "metadata": {},
   "source": [
    "Since $\\beta_4 > 0$ and $\\alpha_1,\\beta_1 >0$ then $OMVB =(\\beta_1+\\beta_4\\alpha_1) =0.007466164 >0$ and if $\\beta_1>0$ then the OLS coefficient on $density$ will be scaled away from zero (more positive) gaining statistical significance.\n",
    "\n",
    "Since $\\beta_4 > 0$ and $\\alpha_2,\\beta_2 <0$ then $OMVB  =(\\beta_2+\\beta_4\\alpha_2)  =-0.0311688805 <0$ and if $\\beta_2<0$ then the OLS coefficient on $probability\\_arrest$ will be scaled away from zero (more negative) gaining statistical significance.\n",
    "\n",
    "Since $\\alpha_3,\\beta_4 > 0$ and $\\beta_3 <0$ then $OMVB  =(\\beta_3+\\beta_4\\alpha_3) =-0.0140037165 <0$ and if $\\beta_3<0$ then the OLS coefficient on $probability\\_conviction$ will be scaled away from zero (more negative) gaining statistical significance.\n",
    "\n",
    "The size of the bias was relatively low across the board. In order to keep our model parsimonious, we excluded the variable as it did not add much value. Additionally, our judicial campaign has little means to directly affect federal wages."
   ]
  },
  {
   "cell_type": "markdown",
   "metadata": {},
   "source": [
    "#### Omitting wsta\n",
    "\n",
    "$$ crime\\_rate \\text{(assumed true model)} = \\beta_0 + \\beta_1* density + \\beta_2* probability\\_arrest + \\beta_3* probability\\_conviction+ \\beta_4*state\\_wages + u$$\n",
    "\n",
    " $$ state\\_wages= \\alpha_0 + \\alpha_1*density + \\alpha_2*probability\\_arrest+ \\alpha_3*probability\\_conviction  +u $$\n",
    "\n",
    "$$y=(\\beta_0 + \\beta_4\\alpha_0) +(\\beta_1+\\beta_4\\alpha_1)*density + (\\beta_2+\\beta_4\\alpha_2)*probability\\_arrest  + (\\beta_3+\\beta_4\\alpha_3)*probability\\_conviction+(\\beta_4v+u)$$"
   ]
  },
  {
   "cell_type": "code",
   "execution_count": 49,
   "metadata": {},
   "outputs": [
    {
     "data": {
      "text/html": [
       "<table>\n",
       "<thead><tr><th></th><th scope=col>crmrte</th><th scope=col>density</th><th scope=col>prbarr</th><th scope=col>prbconv</th><th scope=col>wsta</th></tr></thead>\n",
       "<tbody>\n",
       "\t<tr><th scope=row>crmrte</th><td> 1.0000000 </td><td> 0.7289632 </td><td>-0.39332974</td><td>-0.38597236</td><td> 0.2019913 </td></tr>\n",
       "\t<tr><th scope=row>density</th><td> 0.7289632 </td><td> 1.0000000 </td><td>-0.30138532</td><td>-0.22692802</td><td> 0.2224526 </td></tr>\n",
       "\t<tr><th scope=row>prbarr</th><td>-0.3933297 </td><td>-0.3013853 </td><td> 1.00000000</td><td>-0.05603134</td><td>-0.1612300 </td></tr>\n",
       "\t<tr><th scope=row>prbconv</th><td>-0.3859724 </td><td>-0.2269280 </td><td>-0.05603134</td><td> 1.00000000</td><td>-0.1288226 </td></tr>\n",
       "\t<tr><th scope=row>wsta</th><td> 0.2019913 </td><td> 0.2224526 </td><td>-0.16122998</td><td>-0.12882258</td><td> 1.0000000 </td></tr>\n",
       "</tbody>\n",
       "</table>\n"
      ],
      "text/latex": [
       "\\begin{tabular}{r|lllll}\n",
       "  & crmrte & density & prbarr & prbconv & wsta\\\\\n",
       "\\hline\n",
       "\tcrmrte &  1.0000000  &  0.7289632  & -0.39332974 & -0.38597236 &  0.2019913 \\\\\n",
       "\tdensity &  0.7289632  &  1.0000000  & -0.30138532 & -0.22692802 &  0.2224526 \\\\\n",
       "\tprbarr & -0.3933297  & -0.3013853  &  1.00000000 & -0.05603134 & -0.1612300 \\\\\n",
       "\tprbconv & -0.3859724  & -0.2269280  & -0.05603134 &  1.00000000 & -0.1288226 \\\\\n",
       "\twsta &  0.2019913  &  0.2224526  & -0.16122998 & -0.12882258 &  1.0000000 \\\\\n",
       "\\end{tabular}\n"
      ],
      "text/markdown": [
       "\n",
       "| <!--/--> | crmrte | density | prbarr | prbconv | wsta |\n",
       "|---|---|---|---|---|---|\n",
       "| crmrte |  1.0000000  |  0.7289632  | -0.39332974 | -0.38597236 |  0.2019913  |\n",
       "| density |  0.7289632  |  1.0000000  | -0.30138532 | -0.22692802 |  0.2224526  |\n",
       "| prbarr | -0.3933297  | -0.3013853  |  1.00000000 | -0.05603134 | -0.1612300  |\n",
       "| prbconv | -0.3859724  | -0.2269280  | -0.05603134 |  1.00000000 | -0.1288226  |\n",
       "| wsta |  0.2019913  |  0.2224526  | -0.16122998 | -0.12882258 |  1.0000000  |\n",
       "\n"
      ],
      "text/plain": [
       "        crmrte     density    prbarr      prbconv     wsta      \n",
       "crmrte   1.0000000  0.7289632 -0.39332974 -0.38597236  0.2019913\n",
       "density  0.7289632  1.0000000 -0.30138532 -0.22692802  0.2224526\n",
       "prbarr  -0.3933297 -0.3013853  1.00000000 -0.05603134 -0.1612300\n",
       "prbconv -0.3859724 -0.2269280 -0.05603134  1.00000000 -0.1288226\n",
       "wsta     0.2019913  0.2224526 -0.16122998 -0.12882258  1.0000000"
      ]
     },
     "metadata": {},
     "output_type": "display_data"
    }
   ],
   "source": [
    "cor(crime[c('crmrte','density','prbarr','prbconv','wsta')],use = \"complete.obs\")"
   ]
  },
  {
   "cell_type": "markdown",
   "metadata": {},
   "source": [
    "Using the correlation table, we do not see any particularly strong correlations, we expect the value of OMVBs to be low."
   ]
  },
  {
   "cell_type": "code",
   "execution_count": 50,
   "metadata": {},
   "outputs": [
    {
     "data": {
      "text/plain": [
       "\n",
       "Call:\n",
       "lm(formula = crmrte ~ density + prbarr + prbconv + wsta, data = crime)\n",
       "\n",
       "Coefficients:\n",
       "(Intercept)      density       prbarr      prbconv         wsta  \n",
       "  4.001e-02    7.470e-03   -3.120e-02   -1.402e-02   -9.763e-07  \n"
      ]
     },
     "metadata": {},
     "output_type": "display_data"
    }
   ],
   "source": [
    "model_with_wsta <- lm(crmrte~density+prbarr+prbconv+wsta,data=crime)\n",
    "model_with_wsta"
   ]
  },
  {
   "cell_type": "code",
   "execution_count": 51,
   "metadata": {},
   "outputs": [
    {
     "data": {
      "text/plain": [
       "\n",
       "Call:\n",
       "lm(formula = wsta ~ density + prbarr + prbconv, data = crime)\n",
       "\n",
       "Coefficients:\n",
       "(Intercept)      density       prbarr      prbconv  \n",
       "    368.282        4.695      -36.827      -11.985  \n"
      ]
     },
     "metadata": {},
     "output_type": "display_data"
    }
   ],
   "source": [
    "wsta_dependent_var<-lm(wsta~density+prbarr+prbconv , data = crime)\n",
    "wsta_dependent_var"
   ]
  },
  {
   "cell_type": "code",
   "execution_count": 52,
   "metadata": {},
   "outputs": [
    {
     "data": {
      "text/html": [
       "0.0074654162715"
      ],
      "text/latex": [
       "0.0074654162715"
      ],
      "text/markdown": [
       "0.0074654162715"
      ],
      "text/plain": [
       "[1] 0.007465416"
      ]
     },
     "metadata": {},
     "output_type": "display_data"
    },
    {
     "data": {
      "text/html": [
       "-0.0311640457999"
      ],
      "text/latex": [
       "-0.0311640457999"
      ],
      "text/markdown": [
       "-0.0311640457999"
      ],
      "text/plain": [
       "[1] -0.03116405"
      ]
     },
     "metadata": {},
     "output_type": "display_data"
    },
    {
     "data": {
      "text/html": [
       "-0.0140082990445"
      ],
      "text/latex": [
       "-0.0140082990445"
      ],
      "text/markdown": [
       "-0.0140082990445"
      ],
      "text/plain": [
       "[1] -0.0140083"
      ]
     },
     "metadata": {},
     "output_type": "display_data"
    }
   ],
   "source": [
    "omvb_density=(7.470e-03)+((-9.763e-07)*4.695)\n",
    "omvb_density\n",
    "omvb_prbarr=(-3.120e-02)+((-9.763e-07)*-36.827)\n",
    "omvb_prbarr\n",
    "omvb_prbconv=(-1.402e-02)+((-9.763e-07)*-11.985)\n",
    "omvb_prbconv"
   ]
  },
  {
   "cell_type": "markdown",
   "metadata": {},
   "source": [
    "Since $\\beta_4 < 0$ and $\\alpha_1,\\beta_1 >0$ then $OMVB =(\\beta_1+\\beta_4\\alpha_1) =0.0074654162715 >0$ and if $\\beta_1>0$ then the OLS coefficient on $density$ will be scaled away from zero (more positive) gaining statistical significance.\n",
    "\n",
    "Since $\\beta_4 < 0$ and $\\alpha_2,\\beta_2 <0$ then $OMVB  =(\\beta_2+\\beta_4\\alpha_2) =-0.0311640457999<0$ and if $\\beta_2<0$ then the OLS coefficient on $probability\\_arrest$ will be scaled away from zero (more negative) gaining statistical significance.\n",
    "\n",
    "Since $\\beta_4 < 0$ and $\\alpha_3,\\beta_3 <0$ then $OMVB  =(\\beta_3+\\beta_4\\alpha_3) =-0.0140082990445 <0$ and if $\\beta_3<0$ then the OLS coefficient on $probability\\_conviction$ will be scaled away from zero (more negative) gaining statistical significance.\n",
    "\n",
    "The size of the bias was relatively low across the board. In order to keep our model parsimonious, we excluded the variable as it did not add much value.  Additionally, as with federal wages, our judicial campaign has little means to directly affect state employees wages."
   ]
  },
  {
   "cell_type": "markdown",
   "metadata": {},
   "source": [
    "#### Omitting wloc\n",
    "\n",
    "$$ crime\\_rate \\text{(assumed true model)} = \\beta_0 + \\beta_1* density + \\beta_2* probability\\_arrest + \\beta_3* probability\\_conviction+ \\beta_4*local\\_wages + u$$\n",
    "\n",
    " $$ local\\_wages= \\alpha_0 + \\alpha_1*density + \\alpha_2*probability\\_arrest+ \\alpha_3*probability\\_conviction  +u $$\n",
    "\n",
    "$$y=(\\beta_0 + \\beta_4\\alpha_0) +(\\beta_1+\\beta_4\\alpha_1)*density + (\\beta_2+\\beta_4\\alpha_2)*probability\\_arrest  + (\\beta_3+\\beta_4\\alpha_3)*probability\\_conviction+(\\beta_4v+u)$$"
   ]
  },
  {
   "cell_type": "code",
   "execution_count": 53,
   "metadata": {},
   "outputs": [
    {
     "data": {
      "text/html": [
       "<table>\n",
       "<thead><tr><th></th><th scope=col>crmrte</th><th scope=col>density</th><th scope=col>prbarr</th><th scope=col>prbconv</th><th scope=col>wloc</th></tr></thead>\n",
       "<tbody>\n",
       "\t<tr><th scope=row>crmrte</th><td> 1.0000000 </td><td> 0.7289632 </td><td>-0.39332974</td><td>-0.38597236</td><td> 0.34843532</td></tr>\n",
       "\t<tr><th scope=row>density</th><td> 0.7289632 </td><td> 1.0000000 </td><td>-0.30138532</td><td>-0.22692802</td><td> 0.44935488</td></tr>\n",
       "\t<tr><th scope=row>prbarr</th><td>-0.3933297 </td><td>-0.3013853 </td><td> 1.00000000</td><td>-0.05603134</td><td>-0.02727041</td></tr>\n",
       "\t<tr><th scope=row>prbconv</th><td>-0.3859724 </td><td>-0.2269280 </td><td>-0.05603134</td><td> 1.00000000</td><td> 0.05166724</td></tr>\n",
       "\t<tr><th scope=row>wloc</th><td> 0.3484353 </td><td> 0.4493549 </td><td>-0.02727041</td><td> 0.05166724</td><td> 1.00000000</td></tr>\n",
       "</tbody>\n",
       "</table>\n"
      ],
      "text/latex": [
       "\\begin{tabular}{r|lllll}\n",
       "  & crmrte & density & prbarr & prbconv & wloc\\\\\n",
       "\\hline\n",
       "\tcrmrte &  1.0000000  &  0.7289632  & -0.39332974 & -0.38597236 &  0.34843532\\\\\n",
       "\tdensity &  0.7289632  &  1.0000000  & -0.30138532 & -0.22692802 &  0.44935488\\\\\n",
       "\tprbarr & -0.3933297  & -0.3013853  &  1.00000000 & -0.05603134 & -0.02727041\\\\\n",
       "\tprbconv & -0.3859724  & -0.2269280  & -0.05603134 &  1.00000000 &  0.05166724\\\\\n",
       "\twloc &  0.3484353  &  0.4493549  & -0.02727041 &  0.05166724 &  1.00000000\\\\\n",
       "\\end{tabular}\n"
      ],
      "text/markdown": [
       "\n",
       "| <!--/--> | crmrte | density | prbarr | prbconv | wloc |\n",
       "|---|---|---|---|---|---|\n",
       "| crmrte |  1.0000000  |  0.7289632  | -0.39332974 | -0.38597236 |  0.34843532 |\n",
       "| density |  0.7289632  |  1.0000000  | -0.30138532 | -0.22692802 |  0.44935488 |\n",
       "| prbarr | -0.3933297  | -0.3013853  |  1.00000000 | -0.05603134 | -0.02727041 |\n",
       "| prbconv | -0.3859724  | -0.2269280  | -0.05603134 |  1.00000000 |  0.05166724 |\n",
       "| wloc |  0.3484353  |  0.4493549  | -0.02727041 |  0.05166724 |  1.00000000 |\n",
       "\n"
      ],
      "text/plain": [
       "        crmrte     density    prbarr      prbconv     wloc       \n",
       "crmrte   1.0000000  0.7289632 -0.39332974 -0.38597236  0.34843532\n",
       "density  0.7289632  1.0000000 -0.30138532 -0.22692802  0.44935488\n",
       "prbarr  -0.3933297 -0.3013853  1.00000000 -0.05603134 -0.02727041\n",
       "prbconv -0.3859724 -0.2269280 -0.05603134  1.00000000  0.05166724\n",
       "wloc     0.3484353  0.4493549 -0.02727041  0.05166724  1.00000000"
      ]
     },
     "metadata": {},
     "output_type": "display_data"
    }
   ],
   "source": [
    "cor(crime[c('crmrte','density','prbarr','prbconv','wloc')],use = \"complete.obs\")"
   ]
  },
  {
   "cell_type": "markdown",
   "metadata": {},
   "source": [
    "The highest correlation with $wloc$ appears to be with the independent variable $density$ (0.4493549)."
   ]
  },
  {
   "cell_type": "code",
   "execution_count": 54,
   "metadata": {},
   "outputs": [
    {
     "data": {
      "text/plain": [
       "\n",
       "Call:\n",
       "lm(formula = crmrte ~ density + prbarr + prbconv + wloc, data = crime)\n",
       "\n",
       "Coefficients:\n",
       "(Intercept)      density       prbarr      prbconv         wloc  \n",
       "  1.833e-02    6.713e-03   -3.341e-02   -1.510e-02    7.565e-05  \n"
      ]
     },
     "metadata": {},
     "output_type": "display_data"
    }
   ],
   "source": [
    "model_with_wloc <- lm(crmrte~density+prbarr+prbconv+wloc,data=crime)\n",
    "model_with_wloc"
   ]
  },
  {
   "cell_type": "code",
   "execution_count": 55,
   "metadata": {},
   "outputs": [
    {
     "data": {
      "text/plain": [
       "\n",
       "Call:\n",
       "lm(formula = wloc ~ density + prbarr + prbconv, data = crime)\n",
       "\n",
       "Coefficients:\n",
       "(Intercept)      density       prbarr      prbconv  \n",
       "     281.73         9.95        29.63        14.50  \n"
      ]
     },
     "metadata": {},
     "output_type": "display_data"
    }
   ],
   "source": [
    "wloc_dependent_var<-lm(wloc~density+prbarr+prbconv , data = crime)\n",
    "wloc_dependent_var"
   ]
  },
  {
   "cell_type": "code",
   "execution_count": 56,
   "metadata": {},
   "outputs": [
    {
     "data": {
      "text/html": [
       "0.0074657175"
      ],
      "text/latex": [
       "0.0074657175"
      ],
      "text/markdown": [
       "0.0074657175"
      ],
      "text/plain": [
       "[1] 0.007465717"
      ]
     },
     "metadata": {},
     "output_type": "display_data"
    },
    {
     "data": {
      "text/html": [
       "-0.0311684905"
      ],
      "text/latex": [
       "-0.0311684905"
      ],
      "text/markdown": [
       "-0.0311684905"
      ],
      "text/plain": [
       "[1] -0.03116849"
      ]
     },
     "metadata": {},
     "output_type": "display_data"
    },
    {
     "data": {
      "text/html": [
       "-0.014003075"
      ],
      "text/latex": [
       "-0.014003075"
      ],
      "text/markdown": [
       "-0.014003075"
      ],
      "text/plain": [
       "[1] -0.01400308"
      ]
     },
     "metadata": {},
     "output_type": "display_data"
    }
   ],
   "source": [
    "omvb_density=( 6.713e-03)+((7.565e-05)*9.95)\n",
    "omvb_density\n",
    "omvb_prbarr=(-3.341e-02 )+((7.565e-05)*29.63)\n",
    "omvb_prbarr\n",
    "omvb_prbconv=(-1.510e-02)+((7.565e-05)*14.50)\n",
    "omvb_prbconv"
   ]
  },
  {
   "cell_type": "markdown",
   "metadata": {},
   "source": [
    "Since $\\beta_4 > 0$ and $\\alpha_1 >0$ and $\\beta_1>0$ then $OMVB  =(\\beta_1+\\beta_4\\alpha_1) = 0.0074657175>0$ and if $\\beta_1>0$ then the OLS coefficient on $density$ will be scaled away from zero (more positive) gaining statistical significance.\n",
    "\n",
    "Since $\\beta_4 > 0$ and $\\alpha_2 >0$, but $\\beta_2<0$ then $OMVB = (\\beta_2+\\beta_4\\alpha_2) = -0.0311684905 <0$ and if $\\beta_2<0$ then the OLS coefficient on $probability\\_arrest$ will be scaled away from zero (more negative) gaining statistical significance.\n",
    "\n",
    "Since $\\beta_4 > 0$ and $\\alpha_3 >0$, but $\\beta_3<0$  then $OMVB = (\\beta_3+\\beta_4\\alpha_3) =-0.014003075 <0$ and if $\\beta_3<0$ then the OLS coefficient on $probability\\_conviction$ will be scaled away from zero (more negative) gaining statistical significance.\n",
    "\n",
    "In order to keep our model parsimonious, we excluded the variable as it did not add much value. Like with federal and state wages, our potential judicial position will have little ability to directly impact local wages."
   ]
  },
  {
   "cell_type": "markdown",
   "metadata": {},
   "source": [
    "#### Omitting urban\n",
    "\n",
    "$$ crime\\_rate \\text{(assumed true model)} = \\beta_0 + \\beta_1* density + \\beta_2* probability\\_arrest + \\beta_3* probability\\_conviction+ \\beta_4*urban + u$$\n",
    "\n",
    " $$ urban= \\alpha_0 + \\alpha_1*density + \\alpha_2*probability\\_arrest+ \\alpha_3*probability\\_conviction  +u $$\n",
    "\n",
    "$$y=(\\beta_0 + \\beta_4\\alpha_0) +(\\beta_1+\\beta_4\\alpha_1)*density + (\\beta_2+\\beta_4\\alpha_2)*probability\\_arrest  + (\\beta_3+\\beta_4\\alpha_3)*probability\\_conviction+(\\beta_4v+u)$$"
   ]
  },
  {
   "cell_type": "code",
   "execution_count": 58,
   "metadata": {},
   "outputs": [
    {
     "data": {
      "text/html": [
       "<table>\n",
       "<thead><tr><th></th><th scope=col>crmrte</th><th scope=col>density</th><th scope=col>prbarr</th><th scope=col>prbconv</th><th scope=col>urban</th></tr></thead>\n",
       "<tbody>\n",
       "\t<tr><th scope=row>crmrte</th><td> 1.0000000 </td><td> 0.7289632 </td><td>-0.39332974</td><td>-0.38597236</td><td> 0.6156022 </td></tr>\n",
       "\t<tr><th scope=row>density</th><td> 0.7289632 </td><td> 1.0000000 </td><td>-0.30138532</td><td>-0.22692802</td><td> 0.8202765 </td></tr>\n",
       "\t<tr><th scope=row>prbarr</th><td>-0.3933297 </td><td>-0.3013853 </td><td> 1.00000000</td><td>-0.05603134</td><td>-0.2076680 </td></tr>\n",
       "\t<tr><th scope=row>prbconv</th><td>-0.3859724 </td><td>-0.2269280 </td><td>-0.05603134</td><td> 1.00000000</td><td>-0.1973438 </td></tr>\n",
       "\t<tr><th scope=row>urban</th><td> 0.6156022 </td><td> 0.8202765 </td><td>-0.20766796</td><td>-0.19734377</td><td> 1.0000000 </td></tr>\n",
       "</tbody>\n",
       "</table>\n"
      ],
      "text/latex": [
       "\\begin{tabular}{r|lllll}\n",
       "  & crmrte & density & prbarr & prbconv & urban\\\\\n",
       "\\hline\n",
       "\tcrmrte &  1.0000000  &  0.7289632  & -0.39332974 & -0.38597236 &  0.6156022 \\\\\n",
       "\tdensity &  0.7289632  &  1.0000000  & -0.30138532 & -0.22692802 &  0.8202765 \\\\\n",
       "\tprbarr & -0.3933297  & -0.3013853  &  1.00000000 & -0.05603134 & -0.2076680 \\\\\n",
       "\tprbconv & -0.3859724  & -0.2269280  & -0.05603134 &  1.00000000 & -0.1973438 \\\\\n",
       "\turban &  0.6156022  &  0.8202765  & -0.20766796 & -0.19734377 &  1.0000000 \\\\\n",
       "\\end{tabular}\n"
      ],
      "text/markdown": [
       "\n",
       "| <!--/--> | crmrte | density | prbarr | prbconv | urban |\n",
       "|---|---|---|---|---|---|\n",
       "| crmrte |  1.0000000  |  0.7289632  | -0.39332974 | -0.38597236 |  0.6156022  |\n",
       "| density |  0.7289632  |  1.0000000  | -0.30138532 | -0.22692802 |  0.8202765  |\n",
       "| prbarr | -0.3933297  | -0.3013853  |  1.00000000 | -0.05603134 | -0.2076680  |\n",
       "| prbconv | -0.3859724  | -0.2269280  | -0.05603134 |  1.00000000 | -0.1973438  |\n",
       "| urban |  0.6156022  |  0.8202765  | -0.20766796 | -0.19734377 |  1.0000000  |\n",
       "\n"
      ],
      "text/plain": [
       "        crmrte     density    prbarr      prbconv     urban     \n",
       "crmrte   1.0000000  0.7289632 -0.39332974 -0.38597236  0.6156022\n",
       "density  0.7289632  1.0000000 -0.30138532 -0.22692802  0.8202765\n",
       "prbarr  -0.3933297 -0.3013853  1.00000000 -0.05603134 -0.2076680\n",
       "prbconv -0.3859724 -0.2269280 -0.05603134  1.00000000 -0.1973438\n",
       "urban    0.6156022  0.8202765 -0.20766796 -0.19734377  1.0000000"
      ]
     },
     "metadata": {},
     "output_type": "display_data"
    }
   ],
   "source": [
    "cor(crime[c('crmrte','density','prbarr','prbconv','urban')],use = \"complete.obs\")"
   ]
  },
  {
   "cell_type": "markdown",
   "metadata": {},
   "source": [
    "$urban$ is heavily (0.8202765) correlated with $density$ so we've decided to omit it from our model, we will continue the omitted variable analysis."
   ]
  },
  {
   "cell_type": "code",
   "execution_count": 59,
   "metadata": {},
   "outputs": [
    {
     "data": {
      "text/plain": [
       "\n",
       "Call:\n",
       "lm(formula = crmrte ~ density + prbarr + prbconv + urban, data = crime)\n",
       "\n",
       "Coefficients:\n",
       "(Intercept)      density       prbarr      prbconv        urban  \n",
       "   0.040410     0.006714    -0.031591    -0.013983     0.004809  \n"
      ]
     },
     "metadata": {},
     "output_type": "display_data"
    }
   ],
   "source": [
    "model_with_urban <- lm(crmrte~density+prbarr+prbconv+urban,data=crime)\n",
    "model_with_urban"
   ]
  },
  {
   "cell_type": "code",
   "execution_count": 60,
   "metadata": {},
   "outputs": [
    {
     "data": {
      "text/plain": [
       "\n",
       "Call:\n",
       "lm(formula = urban ~ density + prbarr + prbconv, data = crime)\n",
       "\n",
       "Coefficients:\n",
       "(Intercept)      density       prbarr      prbconv  \n",
       "  -0.158903     0.156371     0.088686    -0.005022  \n"
      ]
     },
     "metadata": {},
     "output_type": "display_data"
    }
   ],
   "source": [
    "urban_dependent_var<-lm(urban~density+prbarr+prbconv , data = crime)\n",
    "urban_dependent_var"
   ]
  },
  {
   "cell_type": "code",
   "execution_count": 61,
   "metadata": {},
   "outputs": [
    {
     "data": {
      "text/html": [
       "0.007465988139"
      ],
      "text/latex": [
       "0.007465988139"
      ],
      "text/markdown": [
       "0.007465988139"
      ],
      "text/plain": [
       "[1] 0.007465988"
      ]
     },
     "metadata": {},
     "output_type": "display_data"
    },
    {
     "data": {
      "text/html": [
       "-0.031164509026"
      ],
      "text/latex": [
       "-0.031164509026"
      ],
      "text/markdown": [
       "-0.031164509026"
      ],
      "text/plain": [
       "[1] -0.03116451"
      ]
     },
     "metadata": {},
     "output_type": "display_data"
    },
    {
     "data": {
      "text/html": [
       "-0.014007150798"
      ],
      "text/latex": [
       "-0.014007150798"
      ],
      "text/markdown": [
       "-0.014007150798"
      ],
      "text/plain": [
       "[1] -0.01400715"
      ]
     },
     "metadata": {},
     "output_type": "display_data"
    }
   ],
   "source": [
    "omvb_density=0.006714+(0.004809*0.156371)\n",
    "omvb_density\n",
    "omvb_prbarr=-0.031591+(0.004809*0.088686)\n",
    "omvb_prbarr\n",
    "omvb_prbconv=-0.013983+(0.004809*-0.005022)\n",
    "omvb_prbconv"
   ]
  },
  {
   "cell_type": "markdown",
   "metadata": {},
   "source": [
    "Since $\\beta_4 > 0$ and $\\alpha_1 >0$ then $OMVB = (\\beta_1+\\beta_4\\alpha_1) = 0.007465988139>0$ and if $\\beta_1>0$ then the OLS coefficient on $density$ will be scaled away from zero (more positive) gaining statistical significance.\n",
    "\n",
    "Since $\\beta_4 > 0$ and $\\alpha_2 >0$, but $\\beta_2<0$ then $OMVB = (\\beta_2+\\beta_4\\alpha_2) =  -0.031164509026<0$ and if $\\beta_2<0$ then the OLS coefficient on $probability\\_arrest$ will be scaled away from zero (more negative) gaining statistical significance.\n",
    "\n",
    "Since $\\beta_4 > 0$, $\\alpha_3 <0$, and $\\beta_3<0$ then $OMVB = (\\beta_3+\\beta_4\\alpha_3) =  -0.014007150798<0$ and if $\\beta_3<0$ then the OLS coefficient on $probability\\_conviction$ will be scaled away from zero (more negative) gaining statistical significance.\n",
    "\n",
    "The size of the bias was relatively low across the board. In order to keep our model parsimonious, we excluded the variable as it did not add much value. Additionally, the high correlation between $urban$ and $density$ is a concern in keeping our model sound."
   ]
  },
  {
   "cell_type": "markdown",
   "metadata": {},
   "source": [
    "#### Omitting prbpris\n",
    "\n",
    "$$ crime\\_rate \\text{(assumed true model)} = \\beta_0 + \\beta_1* density + \\beta_2* probability\\_arrest + \\beta_3* probability\\_conviction+ \\beta_4*probability\\_prison\\_sentence + u$$\n",
    "\n",
    " $$ probability\\_prison\\_sentence= \\alpha_0 + \\alpha_1*density + \\alpha_2*probability\\_arrest+ \\alpha_3*probability\\_conviction  +u $$\n",
    " \n",
    "$$y=(\\beta_0 + \\beta_4\\alpha_0) +(\\beta_1+\\beta_4\\alpha_1)*density + (\\beta_2+\\beta_4\\alpha_2)*probability\\_arrest  + (\\beta_3+\\beta_4\\alpha_3)*probability\\_conviction+(\\beta_4v+u)$$"
   ]
  },
  {
   "cell_type": "code",
   "execution_count": 62,
   "metadata": {},
   "outputs": [
    {
     "data": {
      "text/html": [
       "<table>\n",
       "<thead><tr><th></th><th scope=col>crmrte</th><th scope=col>density</th><th scope=col>prbarr</th><th scope=col>prbconv</th><th scope=col>prbpris</th></tr></thead>\n",
       "<tbody>\n",
       "\t<tr><th scope=row>crmrte</th><td> 1.00000000</td><td> 0.72896316</td><td>-0.39332974</td><td>-0.38597236</td><td>0.04698428 </td></tr>\n",
       "\t<tr><th scope=row>density</th><td> 0.72896316</td><td> 1.00000000</td><td>-0.30138532</td><td>-0.22692802</td><td>0.07656438 </td></tr>\n",
       "\t<tr><th scope=row>prbarr</th><td>-0.39332974</td><td>-0.30138532</td><td> 1.00000000</td><td>-0.05603134</td><td>0.04544189 </td></tr>\n",
       "\t<tr><th scope=row>prbconv</th><td>-0.38597236</td><td>-0.22692802</td><td>-0.05603134</td><td> 1.00000000</td><td>0.01120947 </td></tr>\n",
       "\t<tr><th scope=row>prbpris</th><td> 0.04698428</td><td> 0.07656438</td><td> 0.04544189</td><td> 0.01120947</td><td>1.00000000 </td></tr>\n",
       "</tbody>\n",
       "</table>\n"
      ],
      "text/latex": [
       "\\begin{tabular}{r|lllll}\n",
       "  & crmrte & density & prbarr & prbconv & prbpris\\\\\n",
       "\\hline\n",
       "\tcrmrte &  1.00000000 &  0.72896316 & -0.39332974 & -0.38597236 & 0.04698428 \\\\\n",
       "\tdensity &  0.72896316 &  1.00000000 & -0.30138532 & -0.22692802 & 0.07656438 \\\\\n",
       "\tprbarr & -0.39332974 & -0.30138532 &  1.00000000 & -0.05603134 & 0.04544189 \\\\\n",
       "\tprbconv & -0.38597236 & -0.22692802 & -0.05603134 &  1.00000000 & 0.01120947 \\\\\n",
       "\tprbpris &  0.04698428 &  0.07656438 &  0.04544189 &  0.01120947 & 1.00000000 \\\\\n",
       "\\end{tabular}\n"
      ],
      "text/markdown": [
       "\n",
       "| <!--/--> | crmrte | density | prbarr | prbconv | prbpris |\n",
       "|---|---|---|---|---|---|\n",
       "| crmrte |  1.00000000 |  0.72896316 | -0.39332974 | -0.38597236 | 0.04698428  |\n",
       "| density |  0.72896316 |  1.00000000 | -0.30138532 | -0.22692802 | 0.07656438  |\n",
       "| prbarr | -0.39332974 | -0.30138532 |  1.00000000 | -0.05603134 | 0.04544189  |\n",
       "| prbconv | -0.38597236 | -0.22692802 | -0.05603134 |  1.00000000 | 0.01120947  |\n",
       "| prbpris |  0.04698428 |  0.07656438 |  0.04544189 |  0.01120947 | 1.00000000  |\n",
       "\n"
      ],
      "text/plain": [
       "        crmrte      density     prbarr      prbconv     prbpris   \n",
       "crmrte   1.00000000  0.72896316 -0.39332974 -0.38597236 0.04698428\n",
       "density  0.72896316  1.00000000 -0.30138532 -0.22692802 0.07656438\n",
       "prbarr  -0.39332974 -0.30138532  1.00000000 -0.05603134 0.04544189\n",
       "prbconv -0.38597236 -0.22692802 -0.05603134  1.00000000 0.01120947\n",
       "prbpris  0.04698428  0.07656438  0.04544189  0.01120947 1.00000000"
      ]
     },
     "metadata": {},
     "output_type": "display_data"
    }
   ],
   "source": [
    "cor(crime[c('crmrte','density','prbarr','prbconv','prbpris')],use = \"complete.obs\")"
   ]
  },
  {
   "cell_type": "code",
   "execution_count": 63,
   "metadata": {},
   "outputs": [
    {
     "data": {
      "text/plain": [
       "\n",
       "Call:\n",
       "lm(formula = crmrte ~ density + prbarr + prbconv + prbpris, data = crime)\n",
       "\n",
       "Coefficients:\n",
       "(Intercept)      density       prbarr      prbconv      prbpris  \n",
       "   0.038352     0.007446    -0.031325    -0.014038     0.003375  \n"
      ]
     },
     "metadata": {},
     "output_type": "display_data"
    }
   ],
   "source": [
    "model_with_prbpris <- lm(crmrte~density+prbarr+prbconv+prbpris,data=crime)\n",
    "model_with_prbpris"
   ]
  },
  {
   "cell_type": "code",
   "execution_count": 64,
   "metadata": {},
   "outputs": [
    {
     "data": {
      "text/plain": [
       "\n",
       "Call:\n",
       "lm(formula = prbpris ~ density + prbarr + prbconv, data = crime)\n",
       "\n",
       "Coefficients:\n",
       "(Intercept)      density       prbarr      prbconv  \n",
       "   0.383320     0.005839     0.047424     0.009283  \n"
      ]
     },
     "metadata": {},
     "output_type": "display_data"
    }
   ],
   "source": [
    "prbpris_dependent_var<-lm(prbpris~density+prbarr+prbconv , data = crime)\n",
    "prbpris_dependent_var"
   ]
  },
  {
   "cell_type": "code",
   "execution_count": 66,
   "metadata": {},
   "outputs": [
    {
     "data": {
      "text/html": [
       "0.007465706625"
      ],
      "text/latex": [
       "0.007465706625"
      ],
      "text/markdown": [
       "0.007465706625"
      ],
      "text/plain": [
       "[1] 0.007465707"
      ]
     },
     "metadata": {},
     "output_type": "display_data"
    },
    {
     "data": {
      "text/html": [
       "-0.031164944"
      ],
      "text/latex": [
       "-0.031164944"
      ],
      "text/markdown": [
       "-0.031164944"
      ],
      "text/plain": [
       "[1] -0.03116494"
      ]
     },
     "metadata": {},
     "output_type": "display_data"
    },
    {
     "data": {
      "text/html": [
       "-0.014006669875"
      ],
      "text/latex": [
       "-0.014006669875"
      ],
      "text/markdown": [
       "-0.014006669875"
      ],
      "text/plain": [
       "[1] -0.01400667"
      ]
     },
     "metadata": {},
     "output_type": "display_data"
    }
   ],
   "source": [
    "omvb_density=0.007446+(0.003375*0.005839) \n",
    "omvb_density\n",
    "omvb_prbarr=-0.031325+(0.003375*0.047424) \n",
    "omvb_prbarr\n",
    "omvb_prbconv=-0.014038+(0.003375*0.009283)\n",
    "omvb_prbconv"
   ]
  },
  {
   "cell_type": "markdown",
   "metadata": {},
   "source": [
    "Since $\\beta_4 > 0$ and $\\alpha_1 >0$ then $OMVB = (\\beta_1+\\beta_4\\alpha_1)  = \n",
    "0.007465706625>0$ and if $\\beta_1>0$ then the OLS coefficient on $density$ will be scaled away from zero (more positive) gaining statistical significance.\n",
    "\n",
    "Since $\\beta_4 > 0$ and $\\alpha_2 >0$, but $\\beta_2<0$ then $OMVB =(\\beta_2+\\beta_4\\alpha_2)  =-0.031164944<0$ and if $\\beta_2<0$ then the OLS coefficient on $probability\\_arrest$ will be scaled away from zero (more negative) gaining statistical significance.\n",
    "\n",
    "Since $\\beta_4 > 0$ and $\\alpha_3 >0$, but $\\beta_3<0$ then $OMVB =(\\beta_3+\\beta_4\\alpha_3) = -0.014006669875<0$ and if $\\beta_3<0$ then the OLS coefficient on $probability\\_conviction$ will be scaled away from zero (more negative) gaining statistical significance.\n",
    "\n",
    "While our potential judicial position may have the ability to impact the probability of a prison sentence based on differing crimes, the size of the bias was relatively low across the board. In order to keep our model parsimonious, we excluded the variable as it did not add much value. "
   ]
  },
  {
   "cell_type": "markdown",
   "metadata": {},
   "source": [
    "#### Omitting polpc\n",
    "\n",
    "$$ crime\\_rate \\text{(assumed true model)} = \\beta_0 + \\beta_1* density + \\beta_2* probability\\_arrest + \\beta_3* probability\\_conviction+ \\beta_4*police\\_per\\_capita + u$$\n",
    "\n",
    " $$ police\\_per\\_capita= \\alpha_0 + \\alpha_1*density + \\alpha_2*probability\\_arrest+ \\alpha_3*probability\\_conviction  +u $$\n",
    "\n",
    "$$y=(\\beta_0 + \\beta_4\\alpha_0) +(\\beta_1+\\beta_4\\alpha_1)*density + (\\beta_2+\\beta_4\\alpha_2)*probability\\_arrest  + (\\beta_3+\\beta_4\\alpha_3)*probability\\_conviction+(\\beta_4v+u)$$"
   ]
  },
  {
   "cell_type": "code",
   "execution_count": 67,
   "metadata": {},
   "outputs": [
    {
     "data": {
      "text/html": [
       "<table>\n",
       "<thead><tr><th></th><th scope=col>crmrte</th><th scope=col>density</th><th scope=col>prbarr</th><th scope=col>prbconv</th><th scope=col>polpc</th></tr></thead>\n",
       "<tbody>\n",
       "\t<tr><th scope=row>crmrte</th><td> 1.0000000 </td><td> 0.7289632 </td><td>-0.39332974</td><td>-0.38597236</td><td>0.1698849  </td></tr>\n",
       "\t<tr><th scope=row>density</th><td> 0.7289632 </td><td> 1.0000000 </td><td>-0.30138532</td><td>-0.22692802</td><td>0.1611291  </td></tr>\n",
       "\t<tr><th scope=row>prbarr</th><td>-0.3933297 </td><td>-0.3013853 </td><td> 1.00000000</td><td>-0.05603134</td><td>0.4264409  </td></tr>\n",
       "\t<tr><th scope=row>prbconv</th><td>-0.3859724 </td><td>-0.2269280 </td><td>-0.05603134</td><td> 1.00000000</td><td>0.1709471  </td></tr>\n",
       "\t<tr><th scope=row>polpc</th><td> 0.1698849 </td><td> 0.1611291 </td><td> 0.42644092</td><td> 0.17094706</td><td>1.0000000  </td></tr>\n",
       "</tbody>\n",
       "</table>\n"
      ],
      "text/latex": [
       "\\begin{tabular}{r|lllll}\n",
       "  & crmrte & density & prbarr & prbconv & polpc\\\\\n",
       "\\hline\n",
       "\tcrmrte &  1.0000000  &  0.7289632  & -0.39332974 & -0.38597236 & 0.1698849  \\\\\n",
       "\tdensity &  0.7289632  &  1.0000000  & -0.30138532 & -0.22692802 & 0.1611291  \\\\\n",
       "\tprbarr & -0.3933297  & -0.3013853  &  1.00000000 & -0.05603134 & 0.4264409  \\\\\n",
       "\tprbconv & -0.3859724  & -0.2269280  & -0.05603134 &  1.00000000 & 0.1709471  \\\\\n",
       "\tpolpc &  0.1698849  &  0.1611291  &  0.42644092 &  0.17094706 & 1.0000000  \\\\\n",
       "\\end{tabular}\n"
      ],
      "text/markdown": [
       "\n",
       "| <!--/--> | crmrte | density | prbarr | prbconv | polpc |\n",
       "|---|---|---|---|---|---|\n",
       "| crmrte |  1.0000000  |  0.7289632  | -0.39332974 | -0.38597236 | 0.1698849   |\n",
       "| density |  0.7289632  |  1.0000000  | -0.30138532 | -0.22692802 | 0.1611291   |\n",
       "| prbarr | -0.3933297  | -0.3013853  |  1.00000000 | -0.05603134 | 0.4264409   |\n",
       "| prbconv | -0.3859724  | -0.2269280  | -0.05603134 |  1.00000000 | 0.1709471   |\n",
       "| polpc |  0.1698849  |  0.1611291  |  0.42644092 |  0.17094706 | 1.0000000   |\n",
       "\n"
      ],
      "text/plain": [
       "        crmrte     density    prbarr      prbconv     polpc    \n",
       "crmrte   1.0000000  0.7289632 -0.39332974 -0.38597236 0.1698849\n",
       "density  0.7289632  1.0000000 -0.30138532 -0.22692802 0.1611291\n",
       "prbarr  -0.3933297 -0.3013853  1.00000000 -0.05603134 0.4264409\n",
       "prbconv -0.3859724 -0.2269280 -0.05603134  1.00000000 0.1709471\n",
       "polpc    0.1698849  0.1611291  0.42644092  0.17094706 1.0000000"
      ]
     },
     "metadata": {},
     "output_type": "display_data"
    }
   ],
   "source": [
    "cor(crime[c('crmrte','density','prbarr','prbconv','polpc')],use = \"complete.obs\")"
   ]
  },
  {
   "cell_type": "code",
   "execution_count": 68,
   "metadata": {},
   "outputs": [
    {
     "data": {
      "text/plain": [
       "\n",
       "Call:\n",
       "lm(formula = crmrte ~ density + prbarr + prbconv + polpc, data = crime)\n",
       "\n",
       "Coefficients:\n",
       "(Intercept)      density       prbarr      prbconv        polpc  \n",
       "   0.041640     0.005828    -0.056830    -0.019196     6.330754  \n"
      ]
     },
     "metadata": {},
     "output_type": "display_data"
    }
   ],
   "source": [
    "model_with_polpc <- lm(crmrte~density+prbarr+prbconv+polpc,data=crime)\n",
    "model_with_polpc"
   ]
  },
  {
   "cell_type": "code",
   "execution_count": 69,
   "metadata": {},
   "outputs": [
    {
     "data": {
      "text/plain": [
       "\n",
       "Call:\n",
       "lm(formula = polpc ~ density + prbarr + prbconv, data = crime)\n",
       "\n",
       "Coefficients:\n",
       "(Intercept)      density       prbarr      prbconv  \n",
       " -0.0003151    0.0002587    0.0040541    0.0008197  \n"
      ]
     },
     "metadata": {},
     "output_type": "display_data"
    }
   ],
   "source": [
    "polpc_dependent_var<-lm(polpc~density+prbarr+prbconv , data = crime)\n",
    "polpc_dependent_var"
   ]
  },
  {
   "cell_type": "code",
   "execution_count": 71,
   "metadata": {},
   "outputs": [
    {
     "data": {
      "text/html": [
       "0.0074657660598"
      ],
      "text/latex": [
       "0.0074657660598"
      ],
      "text/markdown": [
       "0.0074657660598"
      ],
      "text/plain": [
       "[1] 0.007465766"
      ]
     },
     "metadata": {},
     "output_type": "display_data"
    },
    {
     "data": {
      "text/html": [
       "-0.0311644902086"
      ],
      "text/latex": [
       "-0.0311644902086"
      ],
      "text/markdown": [
       "-0.0311644902086"
      ],
      "text/plain": [
       "[1] -0.03116449"
      ]
     },
     "metadata": {},
     "output_type": "display_data"
    },
    {
     "data": {
      "text/html": [
       "-0.0140066809462"
      ],
      "text/latex": [
       "-0.0140066809462"
      ],
      "text/markdown": [
       "-0.0140066809462"
      ],
      "text/plain": [
       "[1] -0.01400668"
      ]
     },
     "metadata": {},
     "output_type": "display_data"
    }
   ],
   "source": [
    "omvb_density=0.005828+(6.330754*0.0002587)\n",
    "omvb_density\n",
    "omvb_prbarr=-0.056830+(6.330754*0.0040541) \n",
    "omvb_prbarr\n",
    "omvb_prbconv=-0.019196+(6.330754*0.0008197)\n",
    "omvb_prbconv"
   ]
  },
  {
   "cell_type": "markdown",
   "metadata": {},
   "source": [
    "If $\\beta_4 > 0$ and $\\alpha_1 >0$ then $OMVB = (\\beta_1+\\beta_4\\alpha_1)  = \n",
    "0.0074657660598 >0$ and if $\\beta_1>0$ then the OLS coefficient on $density$ will be scaled away from zero (more positive) gaining statistical significance.\n",
    "\n",
    "If $\\beta_4 > 0$ and $\\alpha_2 >0$, $\\beta_2<0$ then $OMVB = (\\beta_2+\\beta_4\\alpha_2)= -0.0311644902086 <0$ and if $\\beta_2<0$ then the OLS coefficient on $probability\\_arrest$ will be scaled away from zero (more negative) gaining statistical significance.\n",
    "\n",
    "If $\\beta_4 > 0$ and $\\alpha_3 >0$, $\\beta_3<0$ then $OMVB = (\\beta_3+\\beta_4\\alpha_3) = -0.0140066809462 <0$ and if $\\beta_3<0$ then the OLS coefficient on $probability\\_conviction$ will be scaled away from zero (more negative) gaining statistical significance.\n",
    "\n",
    "The size of the bias was relatively low across the board. In order to keep our model parsimonious, we excluded the variable as it did not add much value. In looking at $police\\_per\\_capita$, we ask the question \"Does a police presence actually increase crime rates or does it lead to more crimes being addressed and reported?\"\n",
    "\n",
    "#### Omitting Level of Education\n",
    "\n",
    "Outside of our data set we would like to discuss the omitted variable bias if the true model contained $level\\ of\\ education$ as a variable. The models of interest would be as follows:\n",
    "\n",
    "$$ crime\\_rate \\text{(assumed true model)} = \\beta_0 + \\beta_1* density + \\beta_2* probability\\_arrest + \\beta_3* probability\\_conviction+ \\beta_4* level\\_of\\_education + u$$\n",
    "\n",
    " $$ level\\_of\\_education= \\alpha_0 + \\alpha_1*density + \\alpha_2*probability\\_arrest+ \\alpha_3*probability\\_conviction  +u $$\n",
    "\n",
    "$$y=(\\beta_0 + \\beta_4\\alpha_0) +(\\beta_1+\\beta_4\\alpha_1)*density + (\\beta_2+\\beta_4\\alpha_2)*probability\\_arrest  + (\\beta_3+\\beta_4\\alpha_3)*probability\\_conviction+(\\beta_4v+u)$$\n",
    "\n",
    "Overall, we believe that level of education would be negatively correlated with $crime\\_rate$ and would add statistical significance in a way that was scaled away from zero (more negative). \n",
    "\n",
    "For $density$, we believe the OMVB $(\\beta_1+\\beta_4\\alpha_1)$ would be negative as we would expect $\\beta_4 < 0$, $\\beta_1 > 0$, and $\\alpha_1>0$ (we expect cities to have higher levels of education), additionally we would expect $|(\\beta_4\\alpha_1)| > \\beta_1$\n",
    "\n",
    "For $prbarr$, we believe the OMVB $(\\beta_2+\\beta_4\\alpha_2)$ would be negative as we would expect $\\beta_4 < 0$, $\\beta_2 < 0$, and $\\alpha_2>0$\n",
    "\n",
    "For $prbconv$, we believe the OMVB $(\\beta_3+\\beta_4\\alpha_3)$ would be negative as we would expect $\\beta_4 < 0$, $\\beta_3 < 0$, and $\\alpha_3>0$ \n",
    "\n",
    "While level of education would be interesting to add to the model, we would not expect to create a policy suggestion around differing levels of education of citizens."
   ]
  },
  {
   "cell_type": "markdown",
   "metadata": {},
   "source": [
    "## 6. A Conclusion"
   ]
  },
  {
   "cell_type": "markdown",
   "metadata": {},
   "source": [
    "At the end of our research study, we decided to infer information from our Model 5:\n",
    "\n",
    "$ crime\\_rate = \\beta_0 + \\beta_1* density + \\beta_2* probability\\_arrest + \\beta_3* probability\\_conviction + u$, \n",
    "\n",
    "Where:\n",
    "\n",
    "$\\beta_0= 0.0396457,$\n",
    "$\\beta_1= 0.0074657,$\n",
    "$\\beta_2=-0.0311646,$\n",
    "$\\beta_3=-0.0140069$\n",
    "\n",
    "\n",
    "We analyzed crime rates using the variables of population density, probability of arrest and probability of conviction. \n",
    "\n",
    "We observed that the crime rate is negatively correlated with the probability of arrest and conviction rates and positively correlated with population density. \n",
    "\n",
    "As the judicial campaign seeks to create policies and reforms, we encourage establishing a path for higher conviction rates.  According to our analysis, local governments in North Carolina will likely see a reduction in crime rates if along with the arrests, higher convictions are observed. Higher conviction rates and probabilities of arrest should encourage a lesser likelihood of new and repeated offenders and keep the district safe."
   ]
  },
  {
   "cell_type": "code",
   "execution_count": null,
   "metadata": {},
   "outputs": [],
   "source": []
  }
 ],
 "metadata": {
  "kernelspec": {
   "display_name": "R",
   "language": "R",
   "name": "ir"
  },
  "language_info": {
   "codemirror_mode": "r",
   "file_extension": ".r",
   "mimetype": "text/x-r-source",
   "name": "R",
   "pygments_lexer": "r",
   "version": "3.6.1"
  }
 },
 "nbformat": 4,
 "nbformat_minor": 4
}
